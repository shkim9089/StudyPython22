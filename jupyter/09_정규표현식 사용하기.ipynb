{
 "cells": [
  {
   "cell_type": "code",
   "execution_count": 22,
   "id": "01469e9a",
   "metadata": {},
   "outputs": [],
   "source": [
    "import re"
   ]
  },
  {
   "cell_type": "code",
   "execution_count": 30,
   "id": "5b2c23aa",
   "metadata": {},
   "outputs": [],
   "source": [
    "A=re.match('Hello','Hello,world')"
   ]
  },
  {
   "cell_type": "code",
   "execution_count": 31,
   "id": "593558ae",
   "metadata": {},
   "outputs": [],
   "source": [
    "B=re.match('python','Hello, world')"
   ]
  },
  {
   "cell_type": "code",
   "execution_count": 32,
   "id": "6548d79f",
   "metadata": {},
   "outputs": [
    {
     "data": {
      "text/plain": [
       "<re.Match object; span=(0, 5), match='Hello'>"
      ]
     },
     "execution_count": 32,
     "metadata": {},
     "output_type": "execute_result"
    }
   ],
   "source": [
    "re.search(\"Hello\",'Hello, world')"
   ]
  },
  {
   "cell_type": "code",
   "execution_count": 33,
   "id": "ee36f5db",
   "metadata": {},
   "outputs": [
    {
     "data": {
      "text/plain": [
       "<re.Match object; span=(7, 13), match='world!'>"
      ]
     },
     "execution_count": 33,
     "metadata": {},
     "output_type": "execute_result"
    }
   ],
   "source": [
    "re.search(\"world!\",'Hello, world!')"
   ]
  },
  {
   "cell_type": "code",
   "execution_count": 35,
   "id": "cebf74ab",
   "metadata": {},
   "outputs": [
    {
     "data": {
      "text/plain": [
       "<re.Match object; span=(0, 5), match='hello'>"
      ]
     },
     "execution_count": 35,
     "metadata": {},
     "output_type": "execute_result"
    }
   ],
   "source": [
    "re.match('hello|world','hello')  ## |사용가능"
   ]
  },
  {
   "cell_type": "code",
   "execution_count": 39,
   "id": "abe6bef5",
   "metadata": {},
   "outputs": [
    {
     "data": {
      "text/plain": [
       "<re.Match object; span=(0, 1), match='0'>"
      ]
     },
     "execution_count": 39,
     "metadata": {},
     "output_type": "execute_result"
    }
   ],
   "source": [
    "# 숫자,알파벳 소문자,대문자 범위지정\n",
    "re.match('[0-9][a-z]','0ello,world')"
   ]
  },
  {
   "cell_type": "code",
   "execution_count": 40,
   "id": "b96c02e6",
   "metadata": {},
   "outputs": [
    {
     "data": {
      "text/plain": [
       "<re.Match object; span=(0, 4), match='1234'>"
      ]
     },
     "execution_count": 40,
     "metadata": {},
     "output_type": "execute_result"
    }
   ],
   "source": [
    "re.match('[0-9]*','1234')  # 1234는 0부터 9까지 숫자가 0개이상있으므로 패턴에 매칭"
   ]
  },
  {
   "cell_type": "code",
   "execution_count": 41,
   "id": "8131560d",
   "metadata": {},
   "outputs": [
    {
     "data": {
      "text/plain": [
       "<re.Match object; span=(0, 4), match='1234'>"
      ]
     },
     "execution_count": 41,
     "metadata": {},
     "output_type": "execute_result"
    }
   ],
   "source": [
    "re.match('[0-9]+','1234')"
   ]
  },
  {
   "cell_type": "code",
   "execution_count": 42,
   "id": "88f21f93",
   "metadata": {},
   "outputs": [],
   "source": [
    "re.match('[0-9]+','abcd') "
   ]
  },
  {
   "cell_type": "code",
   "execution_count": 44,
   "id": "ff404952",
   "metadata": {},
   "outputs": [
    {
     "data": {
      "text/plain": [
       "<re.Match object; span=(0, 2), match='12'>"
      ]
     },
     "execution_count": 44,
     "metadata": {},
     "output_type": "execute_result"
    }
   ],
   "source": [
    "re.match('[0-9]+','12a34') "
   ]
  },
  {
   "cell_type": "code",
   "execution_count": 45,
   "id": "4716cad6",
   "metadata": {},
   "outputs": [
    {
     "data": {
      "text/plain": [
       "<re.Match object; span=(0, 1), match='b'>"
      ]
     },
     "execution_count": 45,
     "metadata": {},
     "output_type": "execute_result"
    }
   ],
   "source": [
    "re.match('a*b','b')"
   ]
  },
  {
   "cell_type": "code",
   "execution_count": 47,
   "id": "073739fe",
   "metadata": {},
   "outputs": [],
   "source": [
    "re.match('a+b','b')"
   ]
  },
  {
   "cell_type": "code",
   "execution_count": 48,
   "id": "8fd9e31f",
   "metadata": {},
   "outputs": [
    {
     "data": {
      "text/plain": [
       "<re.Match object; span=(0, 3), match='aab'>"
      ]
     },
     "execution_count": 48,
     "metadata": {},
     "output_type": "execute_result"
    }
   ],
   "source": [
    "re.match('a*b','aab')"
   ]
  },
  {
   "cell_type": "code",
   "execution_count": 49,
   "id": "0b2c0fb9",
   "metadata": {},
   "outputs": [
    {
     "data": {
      "text/plain": [
       "<re.Match object; span=(0, 3), match='aab'>"
      ]
     },
     "execution_count": 49,
     "metadata": {},
     "output_type": "execute_result"
    }
   ],
   "source": [
    "re.match('a+b','aab')"
   ]
  },
  {
   "cell_type": "code",
   "execution_count": 50,
   "id": "cf17881b",
   "metadata": {},
   "outputs": [],
   "source": [
    "##문자가 한개만있는지 판단"
   ]
  },
  {
   "cell_type": "code",
   "execution_count": 51,
   "id": "2b54f8b1",
   "metadata": {},
   "outputs": [
    {
     "data": {
      "text/plain": [
       "<re.Match object; span=(0, 3), match='abd'>"
      ]
     },
     "execution_count": 51,
     "metadata": {},
     "output_type": "execute_result"
    }
   ],
   "source": [
    "re.match('abc?d','abd')"
   ]
  },
  {
   "cell_type": "code",
   "execution_count": 52,
   "id": "92ded809",
   "metadata": {},
   "outputs": [
    {
     "data": {
      "text/plain": [
       "<re.Match object; span=(0, 4), match='ab3c'>"
      ]
     },
     "execution_count": 52,
     "metadata": {},
     "output_type": "execute_result"
    }
   ],
   "source": [
    "re.match('ab[0-9]?c','ab3c')"
   ]
  },
  {
   "cell_type": "code",
   "execution_count": 53,
   "id": "7c881bda",
   "metadata": {},
   "outputs": [
    {
     "data": {
      "text/plain": [
       "<re.Match object; span=(0, 4), match='abxd'>"
      ]
     },
     "execution_count": 53,
     "metadata": {},
     "output_type": "execute_result"
    }
   ],
   "source": [
    "re.match('ab.d','abxd')"
   ]
  },
  {
   "cell_type": "code",
   "execution_count": 54,
   "id": "2482c739",
   "metadata": {},
   "outputs": [
    {
     "data": {
      "text/plain": [
       "<re.Match object; span=(0, 3), match='hhh'>"
      ]
     },
     "execution_count": 54,
     "metadata": {},
     "output_type": "execute_result"
    }
   ],
   "source": [
    "re.match('h{3}','hhhello')"
   ]
  },
  {
   "cell_type": "code",
   "execution_count": 55,
   "id": "3d0bc483",
   "metadata": {},
   "outputs": [
    {
     "data": {
      "text/plain": [
       "<re.Match object; span=(0, 15), match='hellohellohello'>"
      ]
     },
     "execution_count": 55,
     "metadata": {},
     "output_type": "execute_result"
    }
   ],
   "source": [
    "re.match('(hello){3}','hellohellohellowrold')"
   ]
  },
  {
   "cell_type": "code",
   "execution_count": 58,
   "id": "576eb7ea",
   "metadata": {},
   "outputs": [
    {
     "data": {
      "text/plain": [
       "<re.Match object; span=(0, 13), match='010-1000-1000'>"
      ]
     },
     "execution_count": 58,
     "metadata": {},
     "output_type": "execute_result"
    }
   ],
   "source": [
    "re.match('[0-9]{3}-[0-9]{4}-[0-9]{4}','010-1000-1000')"
   ]
  },
  {
   "cell_type": "code",
   "execution_count": 60,
   "id": "35a30e52",
   "metadata": {},
   "outputs": [],
   "source": [
    "re.match('[0-9]{3}-[0-9]{4}-[0-9]{4}','010-1000-100')"
   ]
  },
  {
   "cell_type": "code",
   "execution_count": 61,
   "id": "ed102181",
   "metadata": {},
   "outputs": [
    {
     "data": {
      "text/plain": [
       "<re.Match object; span=(0, 9), match='Hello1234'>"
      ]
     },
     "execution_count": 61,
     "metadata": {},
     "output_type": "execute_result"
    }
   ],
   "source": [
    "re.match('[a-zA-Z0-9]+','Hello1234')  ##a부터z,A부터z,0부터9까지 1개이상"
   ]
  },
  {
   "cell_type": "code",
   "execution_count": 62,
   "id": "fd576d91",
   "metadata": {},
   "outputs": [],
   "source": [
    "re.match('[A-Z0-9]+','hello')"
   ]
  },
  {
   "cell_type": "code",
   "execution_count": 63,
   "id": "ba0c036e",
   "metadata": {},
   "outputs": [
    {
     "data": {
      "text/plain": [
       "<re.Match object; span=(0, 3), match='홍길동'>"
      ]
     },
     "execution_count": 63,
     "metadata": {},
     "output_type": "execute_result"
    }
   ],
   "source": [
    "re.match('[가-힣]+','홍길동')"
   ]
  },
  {
   "cell_type": "code",
   "execution_count": 64,
   "id": "1146ae05",
   "metadata": {},
   "outputs": [
    {
     "data": {
      "text/plain": [
       "<re.Match object; span=(0, 4), match='파이썬ㅏ'>"
      ]
     },
     "execution_count": 64,
     "metadata": {},
     "output_type": "execute_result"
    }
   ],
   "source": [
    "re.match('[가-힣ㄱ-ㅎㅏ-ㅣ]+','파이썬ㅏ')"
   ]
  },
  {
   "cell_type": "code",
   "execution_count": 65,
   "id": "0ab8dd1a",
   "metadata": {},
   "outputs": [],
   "source": [
    "re.match('[^A-Z]+','HELLO')  #A-Z 대문자 제외"
   ]
  },
  {
   "cell_type": "code",
   "execution_count": 66,
   "id": "e310f11e",
   "metadata": {},
   "outputs": [
    {
     "data": {
      "text/plain": [
       "<re.Match object; span=(5, 9), match='1234'>"
      ]
     },
     "execution_count": 66,
     "metadata": {},
     "output_type": "execute_result"
    }
   ],
   "source": [
    "re.search('[0-9]+$','Hello1234')"
   ]
  },
  {
   "cell_type": "code",
   "execution_count": 67,
   "id": "5c278a72",
   "metadata": {},
   "outputs": [
    {
     "data": {
      "text/plain": [
       "<re.Match object; span=(1, 3), match='**'>"
      ]
     },
     "execution_count": 67,
     "metadata": {},
     "output_type": "execute_result"
    }
   ],
   "source": [
    "re.search('\\*+','1**2')  ##특수문자 전에 \\"
   ]
  },
  {
   "cell_type": "code",
   "execution_count": 68,
   "id": "cd5cc146",
   "metadata": {},
   "outputs": [
    {
     "data": {
      "text/plain": [
       "<re.Match object; span=(0, 11), match='$(document)'>"
      ]
     },
     "execution_count": 68,
     "metadata": {},
     "output_type": "execute_result"
    }
   ],
   "source": [
    "re.match('[$()a-zA-Z0-9]+','$(document)')"
   ]
  },
  {
   "cell_type": "code",
   "execution_count": 69,
   "id": "c59c2919",
   "metadata": {},
   "outputs": [
    {
     "data": {
      "text/plain": [
       "<re.Match object; span=(0, 5), match='Hello'>"
      ]
     },
     "execution_count": 69,
     "metadata": {},
     "output_type": "execute_result"
    }
   ],
   "source": [
    "re.match('\\D+','Hello')"
   ]
  },
  {
   "cell_type": "code",
   "execution_count": 70,
   "id": "b57ce946",
   "metadata": {},
   "outputs": [
    {
     "data": {
      "text/plain": [
       "<re.Match object; span=(0, 10), match='Hello_1234'>"
      ]
     },
     "execution_count": 70,
     "metadata": {},
     "output_type": "execute_result"
    }
   ],
   "source": [
    "re.match('\\w+','Hello_1234') # 영문 대소문자,숫자,밑줄문자 매칭"
   ]
  },
  {
   "cell_type": "code",
   "execution_count": 71,
   "id": "c1f1ac93",
   "metadata": {},
   "outputs": [
    {
     "data": {
      "text/plain": [
       "<re.Match object; span=(0, 3), match='(:)'>"
      ]
     },
     "execution_count": 71,
     "metadata": {},
     "output_type": "execute_result"
    }
   ],
   "source": [
    "re.match('\\W+','(:)')  # 영문 대소문자,숫자,밑줄문자를 제외한 모든 문자이므로 매칭됨"
   ]
  },
  {
   "cell_type": "code",
   "execution_count": 72,
   "id": "fe0d8cfb",
   "metadata": {},
   "outputs": [
    {
     "data": {
      "text/plain": [
       "<re.Match object; span=(0, 5), match='Hello'>"
      ]
     },
     "execution_count": 72,
     "metadata": {},
     "output_type": "execute_result"
    }
   ],
   "source": [
    "re.match('[a-zA-Z0-9]+','Hello 1234')   # ' '로 공백표현"
   ]
  },
  {
   "cell_type": "code",
   "execution_count": 74,
   "id": "a0014776",
   "metadata": {},
   "outputs": [],
   "source": [
    "p=re.compile('[0-9]+')"
   ]
  },
  {
   "cell_type": "code",
   "execution_count": 75,
   "id": "452e94bf",
   "metadata": {},
   "outputs": [
    {
     "data": {
      "text/plain": [
       "<re.Match object; span=(0, 4), match='1234'>"
      ]
     },
     "execution_count": 75,
     "metadata": {},
     "output_type": "execute_result"
    }
   ],
   "source": [
    "p.match('1234')"
   ]
  },
  {
   "cell_type": "code",
   "execution_count": 76,
   "id": "5720f075",
   "metadata": {},
   "outputs": [],
   "source": [
    "p.search('hello')"
   ]
  },
  {
   "cell_type": "code",
   "execution_count": 77,
   "id": "fe71fa69",
   "metadata": {},
   "outputs": [
    {
     "data": {
      "text/plain": [
       "['1', '2', '4', '7', '8']"
      ]
     },
     "execution_count": 77,
     "metadata": {},
     "output_type": "execute_result"
    }
   ],
   "source": [
    "re.findall('[0-9]+','1 2 Fizz 4 Buzz Fizz 7 8')"
   ]
  },
  {
   "cell_type": "code",
   "execution_count": 80,
   "id": "560e7b8d",
   "metadata": {},
   "outputs": [
    {
     "data": {
      "text/plain": [
       "'fruit box orange tree'"
      ]
     },
     "execution_count": 80,
     "metadata": {},
     "output_type": "execute_result"
    }
   ],
   "source": [
    "re.sub('apple|orange','fruit','apple box orange tree',1)  ##1,2로 앞에만바꾸고 뒤바꾸고함"
   ]
  },
  {
   "cell_type": "code",
   "execution_count": 81,
   "id": "bdb0a487",
   "metadata": {},
   "outputs": [
    {
     "data": {
      "text/plain": [
       "'* * buzz fuzz * *'"
      ]
     },
     "execution_count": 81,
     "metadata": {},
     "output_type": "execute_result"
    }
   ],
   "source": [
    "re.sub('\\d+','*','1 2 buzz 7 8')"
   ]
  },
  {
   "cell_type": "code",
   "execution_count": 92,
   "id": "345ea0fb",
   "metadata": {},
   "outputs": [
    {
     "name": "stdout",
     "output_type": "stream",
     "text": [
      "False False False False False False False False "
     ]
    }
   ],
   "source": [
    "p=re.compile('^[a-zA-Z0-9.+-_]]+@[a-z-]+\\.[a-z.]+$')\n",
    "\n",
    "emails=['python@mail.example.com','python+kr@example.com',\n",
    "       'pyhthon-dojang@example.co.kr','python_10@example.info',\n",
    "       'python.dojang@e-xample.com',\n",
    "       '@example.com','python@example','python@example-com']\n",
    "for email in emails:\n",
    "    print(p.match(email) !=None,end=' ')"
   ]
  },
  {
   "cell_type": "code",
   "execution_count": null,
   "id": "efa57a01",
   "metadata": {},
   "outputs": [],
   "source": []
  }
 ],
 "metadata": {
  "kernelspec": {
   "display_name": "Python 3 (ipykernel)",
   "language": "python",
   "name": "python3"
  },
  "language_info": {
   "codemirror_mode": {
    "name": "ipython",
    "version": 3
   },
   "file_extension": ".py",
   "mimetype": "text/x-python",
   "name": "python",
   "nbconvert_exporter": "python",
   "pygments_lexer": "ipython3",
   "version": "3.9.12"
  }
 },
 "nbformat": 4,
 "nbformat_minor": 5
}
