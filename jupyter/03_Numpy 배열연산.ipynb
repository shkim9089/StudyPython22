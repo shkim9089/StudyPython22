{
 "cells": [
  {
   "cell_type": "code",
   "execution_count": 1,
   "id": "73d21ec3",
   "metadata": {},
   "outputs": [],
   "source": [
    "import numpy as np"
   ]
  },
  {
   "cell_type": "markdown",
   "id": "899650b9",
   "metadata": {},
   "source": [
    "## Numpy 배열연산"
   ]
  },
  {
   "cell_type": "markdown",
   "id": "1ee558e3",
   "metadata": {},
   "source": [
    "### shape"
   ]
  },
  {
   "cell_type": "code",
   "execution_count": 6,
   "id": "7c32422d",
   "metadata": {},
   "outputs": [
    {
     "name": "stdout",
     "output_type": "stream",
     "text": [
      "[[12. 14. 16.]\n",
      " [18. 20. 22.]]\n"
     ]
    }
   ],
   "source": [
    "arr1=np.arange(1,7,dtype=np.float32).reshape(2,3)\n",
    "arr2=np.arange(11,17,dtype=np.int32).reshape(2,3)\n",
    "print(arr1+arr2)"
   ]
  },
  {
   "cell_type": "code",
   "execution_count": 7,
   "id": "d3f7fcf0",
   "metadata": {},
   "outputs": [],
   "source": [
    "## +,/,**,//,%%"
   ]
  },
  {
   "cell_type": "code",
   "execution_count": 8,
   "id": "1daaff9d",
   "metadata": {},
   "outputs": [],
   "source": [
    "##연산함수\n",
    "#np.add(arr1,arr2),np.subtract(arr1,arr2)  np.multply(arr1,arr2) np.divide(arr1,arr2)"
   ]
  },
  {
   "cell_type": "code",
   "execution_count": 9,
   "id": "910ff3e5",
   "metadata": {},
   "outputs": [],
   "source": [
    "#Broadcastig 연산하고자하는 배열의 모양이 다를경우 연산하고잘할때"
   ]
  },
  {
   "cell_type": "code",
   "execution_count": 10,
   "id": "209958b6",
   "metadata": {},
   "outputs": [
    {
     "ename": "ValueError",
     "evalue": "operands could not be broadcast together with shapes (5,2) (2,5) ",
     "output_type": "error",
     "traceback": [
      "\u001b[1;31m---------------------------------------------------------------------------\u001b[0m",
      "\u001b[1;31mValueError\u001b[0m                                Traceback (most recent call last)",
      "Input \u001b[1;32mIn [10]\u001b[0m, in \u001b[0;36m<cell line: 3>\u001b[1;34m()\u001b[0m\n\u001b[0;32m      1\u001b[0m arr3\u001b[38;5;241m=\u001b[39mnp\u001b[38;5;241m.\u001b[39marange(\u001b[38;5;241m10\u001b[39m)\u001b[38;5;241m.\u001b[39mreshape(\u001b[38;5;241m5\u001b[39m,\u001b[38;5;241m2\u001b[39m)\n\u001b[0;32m      2\u001b[0m arr4\u001b[38;5;241m=\u001b[39mnp\u001b[38;5;241m.\u001b[39marange(\u001b[38;5;241m10\u001b[39m)\u001b[38;5;241m.\u001b[39mreshape(\u001b[38;5;241m2\u001b[39m,\u001b[38;5;241m5\u001b[39m)\n\u001b[1;32m----> 3\u001b[0m \u001b[38;5;28mprint\u001b[39m(\u001b[43marr3\u001b[49m\u001b[38;5;241;43m+\u001b[39;49m\u001b[43marr4\u001b[49m)\n",
      "\u001b[1;31mValueError\u001b[0m: operands could not be broadcast together with shapes (5,2) (2,5) "
     ]
    }
   ],
   "source": [
    "arr3=np.arange(10).reshape(5,2)\n",
    "arr4=np.arange(10).reshape(2,5)\n",
    "print(arr3+arr4)"
   ]
  },
  {
   "cell_type": "code",
   "execution_count": 13,
   "id": "b4c6d029",
   "metadata": {},
   "outputs": [
    {
     "name": "stdout",
     "output_type": "stream",
     "text": [
      "[11 12 13]\n"
     ]
    }
   ],
   "source": [
    "Scalar= 10\n",
    "vector=np.array([1,2,3])\n",
    "print(Scalar+vector)      #자동으로 브로드캐스팅적용"
   ]
  },
  {
   "cell_type": "code",
   "execution_count": 14,
   "id": "db255531",
   "metadata": {},
   "outputs": [
    {
     "name": "stdout",
     "output_type": "stream",
     "text": [
      "[[12 14 16]\n",
      " [15 17 19]\n",
      " [18 20 22]]\n"
     ]
    }
   ],
   "source": [
    "matrix=np.arange(1,10).reshape(3,3)\n",
    "vector=np.arange(11,14).reshape(1,3)\n",
    "print(matrix+vector)"
   ]
  },
  {
   "cell_type": "code",
   "execution_count": 19,
   "id": "1f67ec9d",
   "metadata": {},
   "outputs": [
    {
     "name": "stdout",
     "output_type": "stream",
     "text": [
      "[1 2 3]\n",
      "[[1]\n",
      " [2]\n",
      " [3]]\n",
      "[[2 3 4]\n",
      " [3 4 5]\n",
      " [4 5 6]]\n"
     ]
    }
   ],
   "source": [
    "arr1=np.array([1,2,3])\n",
    "arr2=np.array([1,2,3]).reshape(3,1)\n",
    "print(arr1)\n",
    "print(arr2)\n",
    "print(arr1+arr2)  ## 1,2,3-1,2,3-1,2,3, 1,1,1-2,2,2-3,3,3"
   ]
  },
  {
   "cell_type": "code",
   "execution_count": 23,
   "id": "22500932",
   "metadata": {},
   "outputs": [
    {
     "name": "stdout",
     "output_type": "stream",
     "text": [
      "14\n"
     ]
    }
   ],
   "source": [
    "#행렬 연산\n",
    "#np.dot(arr1,arr2)\n",
    "arr2=np.array([1,2,3]).T\n",
    "print(np.dot(arr1,arr2))"
   ]
  },
  {
   "cell_type": "code",
   "execution_count": 24,
   "id": "88684868",
   "metadata": {},
   "outputs": [
    {
     "data": {
      "text/plain": [
       "14"
      ]
     },
     "execution_count": 24,
     "metadata": {},
     "output_type": "execute_result"
    }
   ],
   "source": [
    "np.dot(arr1,arr2)\n",
    "arr1.dot(arr2)\n",
    "arr1@arr2"
   ]
  },
  {
   "cell_type": "code",
   "execution_count": null,
   "id": "9a01b5c7",
   "metadata": {},
   "outputs": [],
   "source": []
  }
 ],
 "metadata": {
  "kernelspec": {
   "display_name": "Python 3 (ipykernel)",
   "language": "python",
   "name": "python3"
  },
  "language_info": {
   "codemirror_mode": {
    "name": "ipython",
    "version": 3
   },
   "file_extension": ".py",
   "mimetype": "text/x-python",
   "name": "python",
   "nbconvert_exporter": "python",
   "pygments_lexer": "ipython3",
   "version": "3.9.12"
  }
 },
 "nbformat": 4,
 "nbformat_minor": 5
}
