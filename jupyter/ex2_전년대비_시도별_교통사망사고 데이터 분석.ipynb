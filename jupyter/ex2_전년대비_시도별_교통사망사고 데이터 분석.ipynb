{
 "cells": [
  {
   "cell_type": "code",
   "execution_count": 2,
   "id": "6aac79af",
   "metadata": {},
   "outputs": [],
   "source": [
    "import numpy as np"
   ]
  },
  {
   "cell_type": "markdown",
   "id": "b25b85dc",
   "metadata": {},
   "source": [
    "# [문제1] 위 파일을 읽어보고 상위 3개의 (발생년도, 발생건수, 구성비)의 데이터를 추출해 봅시다."
   ]
  },
  {
   "cell_type": "code",
   "execution_count": 67,
   "id": "8cb79a93",
   "metadata": {
    "scrolled": false
   },
   "outputs": [
    {
     "name": "stdout",
     "output_type": "stream",
     "text": [
      "[[ 2.014e+03  1.000e+00  2.180e+02  4.800e+00 -9.000e+00 -4.000e+00]\n",
      " [ 2.014e+03  2.000e+00  8.720e+02  1.900e+01 -4.500e+01 -4.900e+00]\n",
      " [ 2.014e+03  3.000e+00  4.010e+02  8.700e+00 -4.500e+01 -1.010e+01]\n",
      " [ 2.014e+03  4.000e+00  4.640e+02  1.010e+01 -4.100e+01 -8.100e+00]\n",
      " [ 2.014e+03  5.000e+00  9.900e+01  2.200e+00 -5.000e+00 -4.800e+00]\n",
      " [ 2.014e+03  6.000e+00  1.820e+02  4.000e+00  1.900e+01  1.170e+01]\n",
      " [ 2.014e+03  7.000e+00  9.900e+01  2.200e+00  8.000e+00  8.800e+00]\n",
      " [ 2.014e+03  8.000e+00  1.630e+02  3.600e+00 -4.700e+01 -2.240e+01]\n",
      " [ 2.014e+03  9.000e+00  3.860e+02  8.400e+00  1.400e+01  3.800e+00]\n",
      " [ 2.014e+03  1.000e+01  2.000e+01  4.000e-01  0.000e+00  0.000e+00]\n",
      " [ 2.014e+03  1.100e+01  1.030e+02  2.200e+00 -1.600e+01 -1.340e+01]\n",
      " [ 2.014e+03  1.200e+01  1.440e+02  3.100e+00 -6.000e+00 -4.000e+00]\n",
      " [ 2.014e+03  1.300e+01  4.000e+02  8.700e+00 -3.500e+01 -8.000e+00]\n",
      " [ 2.014e+03  1.400e+01  3.170e+02  6.900e+00 -3.500e+01 -9.900e+00]\n",
      " [ 2.014e+03  1.500e+01  8.600e+01  1.900e+00 -1.400e+01 -1.400e+01]\n",
      " [ 2.014e+03  1.600e+01  3.870e+02  8.400e+00 -5.000e+00 -1.300e+00]\n",
      " [ 2.014e+03  1.700e+01  2.420e+02  5.300e+00 -3.100e+01 -1.140e+01]]\n"
     ]
    }
   ],
   "source": [
    "data2=np.loadtxt('./data/ex2_전년대비_시도별_교통사망사고.csv',delimiter=',',dtype=float)\n",
    "print(data2)"
   ]
  },
  {
   "cell_type": "code",
   "execution_count": 64,
   "id": "db92f8e3",
   "metadata": {},
   "outputs": [
    {
     "name": "stdout",
     "output_type": "stream",
     "text": [
      "[[2014.   218.     4.8]\n",
      " [2014.   872.    19. ]\n",
      " [2014.   401.     8.7]]\n"
     ]
    }
   ],
   "source": [
    "print(data2[:3,[0,2,3]])"
   ]
  },
  {
   "cell_type": "markdown",
   "id": "049f4394",
   "metadata": {},
   "source": [
    "# [문제2] 위 데이터에서 부산에서 발생한 교통사망사고 모든 현황을 추출해 봅시다."
   ]
  },
  {
   "cell_type": "code",
   "execution_count": 68,
   "id": "34d30f4e",
   "metadata": {},
   "outputs": [
    {
     "name": "stdout",
     "output_type": "stream",
     "text": [
      "[2014.     8.   163.     3.6  -47.   -22.4]\n"
     ]
    }
   ],
   "source": [
    "print(data2[7,:])"
   ]
  },
  {
   "cell_type": "markdown",
   "id": "a844e577",
   "metadata": {},
   "source": [
    "# [문제3] 위 데이터에서 전국 사고 발생건수의 합계와 전국 평균을 계산해 봅시다."
   ]
  },
  {
   "cell_type": "code",
   "execution_count": 37,
   "id": "48e9ed18",
   "metadata": {},
   "outputs": [
    {
     "name": "stdout",
     "output_type": "stream",
     "text": [
      "4583\n",
      "269.59\n"
     ]
    }
   ],
   "source": [
    "d_sum=data2[:,2].sum()\n",
    "print(d_sum)\n",
    "d_mean=data2[:,2].mean()\n",
    "print(round(d_mean,2))"
   ]
  },
  {
   "cell_type": "markdown",
   "id": "8f06c471",
   "metadata": {},
   "source": [
    "# [문제4] 위 데이터에서 교통사고 증감수가 가장 큰 지역의 모든 현황을 추출해 봅시다."
   ]
  },
  {
   "cell_type": "code",
   "execution_count": 70,
   "id": "94a998bf",
   "metadata": {
    "scrolled": true
   },
   "outputs": [
    {
     "data": {
      "text/plain": [
       "19.0"
      ]
     },
     "execution_count": 70,
     "metadata": {},
     "output_type": "execute_result"
    }
   ],
   "source": [
    "max(data2[:,4])"
   ]
  },
  {
   "cell_type": "code",
   "execution_count": 78,
   "id": "92f4c239",
   "metadata": {},
   "outputs": [
    {
     "name": "stdout",
     "output_type": "stream",
     "text": [
      "[[2014.     6.   182.     4.    19.    11.7]]\n"
     ]
    }
   ],
   "source": [
    "print(data2[data2[:,4]==max(data2[:,4])])"
   ]
  },
  {
   "cell_type": "code",
   "execution_count": 53,
   "id": "d125da56",
   "metadata": {
    "scrolled": true
   },
   "outputs": [
    {
     "name": "stdout",
     "output_type": "stream",
     "text": [
      "[ 5  8  6  9  4 15 11  0 14 10 16 12 13  3  2  1  7]\n",
      "[[2014    6  182    4   19   11]\n",
      " [2014    9  386    8   14    3]\n",
      " [2014    7   99    2    8    8]\n",
      " [2014   10   20    0    0    0]\n",
      " [2014    5   99    2   -5   -4]\n",
      " [2014   16  387    8   -5   -1]\n",
      " [2014   12  144    3   -6   -4]\n",
      " [2014    1  218    4   -9   -4]\n",
      " [2014   15   86    1  -14  -14]\n",
      " [2014   11  103    2  -16  -13]\n",
      " [2014   17  242    5  -31  -11]\n",
      " [2014   13  400    8  -35   -8]\n",
      " [2014   14  317    6  -35   -9]\n",
      " [2014    4  464   10  -41   -8]\n",
      " [2014    3  401    8  -45  -10]\n",
      " [2014    2  872   19  -45   -4]\n",
      " [2014    8  163    3  -47  -22]]\n"
     ]
    }
   ],
   "source": [
    "print(data2[:,4].argsort()[::-1])\n",
    "print(data2[data2[:,4].argsort()][::-1])"
   ]
  },
  {
   "cell_type": "code",
   "execution_count": 52,
   "id": "f219aae1",
   "metadata": {},
   "outputs": [
    {
     "name": "stdout",
     "output_type": "stream",
     "text": [
      "[2014    6  182    4   19   11]\n"
     ]
    }
   ],
   "source": [
    "print(data2[5,:])"
   ]
  },
  {
   "cell_type": "markdown",
   "id": "355026c1",
   "metadata": {},
   "source": [
    "# [문제5] 위 데이터에서 교통사고 증감률이 가장 작은 지역의 모든 현황을 추출해 봅시다."
   ]
  },
  {
   "cell_type": "code",
   "execution_count": 79,
   "id": "1a6136d9",
   "metadata": {},
   "outputs": [
    {
     "data": {
      "text/plain": [
       "-22.4"
      ]
     },
     "execution_count": 79,
     "metadata": {},
     "output_type": "execute_result"
    }
   ],
   "source": [
    "min(data2[:,5])"
   ]
  },
  {
   "cell_type": "code",
   "execution_count": 80,
   "id": "4599f251",
   "metadata": {},
   "outputs": [
    {
     "name": "stdout",
     "output_type": "stream",
     "text": [
      "[[2014.     8.   163.     3.6  -47.   -22.4]]\n"
     ]
    }
   ],
   "source": [
    "print(data2[data2[:,5]==min(data2[:,5])])"
   ]
  },
  {
   "cell_type": "code",
   "execution_count": 54,
   "id": "4fcadd4b",
   "metadata": {
    "scrolled": false
   },
   "outputs": [
    {
     "name": "stdout",
     "output_type": "stream",
     "text": [
      "[ 7 14 10 16  2 13  3 12 11  0  4  1 15  9  8  6  5]\n",
      "[[2014    8  163    3  -47  -22]\n",
      " [2014   15   86    1  -14  -14]\n",
      " [2014   11  103    2  -16  -13]\n",
      " [2014   17  242    5  -31  -11]\n",
      " [2014    3  401    8  -45  -10]\n",
      " [2014   14  317    6  -35   -9]\n",
      " [2014    4  464   10  -41   -8]\n",
      " [2014   13  400    8  -35   -8]\n",
      " [2014   12  144    3   -6   -4]\n",
      " [2014    1  218    4   -9   -4]\n",
      " [2014    5   99    2   -5   -4]\n",
      " [2014    2  872   19  -45   -4]\n",
      " [2014   16  387    8   -5   -1]\n",
      " [2014   10   20    0    0    0]\n",
      " [2014    9  386    8   14    3]\n",
      " [2014    7   99    2    8    8]\n",
      " [2014    6  182    4   19   11]]\n"
     ]
    }
   ],
   "source": [
    "print(data2[:,5].argsort())\n",
    "print(data2[data2[:,5].argsort()])"
   ]
  },
  {
   "cell_type": "code",
   "execution_count": 62,
   "id": "c6a53907",
   "metadata": {},
   "outputs": [
    {
     "name": "stdout",
     "output_type": "stream",
     "text": [
      "[[2014   10   20    0    0    0]]\n"
     ]
    }
   ],
   "source": [
    "print(data2[data2[:,5]==0])"
   ]
  },
  {
   "cell_type": "markdown",
   "id": "ef1c6516",
   "metadata": {},
   "source": [
    "# [문제6] 위 데이터에서 사고 발생 건수가 400건 이상인 곳의 지역과 교통사고 발생건수, 증감수, 증감률을 추출해 봅시다."
   ]
  },
  {
   "cell_type": "code",
   "execution_count": 55,
   "id": "b9cfaa1f",
   "metadata": {},
   "outputs": [
    {
     "name": "stdout",
     "output_type": "stream",
     "text": [
      "[ 9 14  4  6 10 11  7  5  0 16 13  8 15 12  2  3  1]\n",
      "[[2014   10   20    0    0    0]\n",
      " [2014   15   86    1  -14  -14]\n",
      " [2014    5   99    2   -5   -4]\n",
      " [2014    7   99    2    8    8]\n",
      " [2014   11  103    2  -16  -13]\n",
      " [2014   12  144    3   -6   -4]\n",
      " [2014    8  163    3  -47  -22]\n",
      " [2014    6  182    4   19   11]\n",
      " [2014    1  218    4   -9   -4]\n",
      " [2014   17  242    5  -31  -11]\n",
      " [2014   14  317    6  -35   -9]\n",
      " [2014    9  386    8   14    3]\n",
      " [2014   16  387    8   -5   -1]\n",
      " [2014   13  400    8  -35   -8]\n",
      " [2014    3  401    8  -45  -10]\n",
      " [2014    4  464   10  -41   -8]\n",
      " [2014    2  872   19  -45   -4]]\n"
     ]
    }
   ],
   "source": [
    "print(data2[:,2].argsort())\n",
    "print(data2[data2[:,2].argsort()])"
   ]
  },
  {
   "cell_type": "code",
   "execution_count": 57,
   "id": "08c268be",
   "metadata": {
    "scrolled": true
   },
   "outputs": [
    {
     "name": "stdout",
     "output_type": "stream",
     "text": [
      "[[  2 872 -45  -4]\n",
      " [  3 401 -45 -10]\n",
      " [  4 464 -41  -8]\n",
      " [ 13 400 -35  -8]]\n"
     ]
    }
   ],
   "source": [
    "print(data2[data2[:,2]>=400][:,[1,2,4,5]])"
   ]
  }
 ],
 "metadata": {
  "kernelspec": {
   "display_name": "Python 3 (ipykernel)",
   "language": "python",
   "name": "python3"
  },
  "language_info": {
   "codemirror_mode": {
    "name": "ipython",
    "version": 3
   },
   "file_extension": ".py",
   "mimetype": "text/x-python",
   "name": "python",
   "nbconvert_exporter": "python",
   "pygments_lexer": "ipython3",
   "version": "3.9.12"
  }
 },
 "nbformat": 4,
 "nbformat_minor": 5
}
