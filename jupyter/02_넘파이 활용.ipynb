{
 "cells": [
  {
   "cell_type": "markdown",
   "id": "aba480ea",
   "metadata": {},
   "source": [
    "## Reshape"
   ]
  },
  {
   "cell_type": "markdown",
   "id": "cba3f1cf",
   "metadata": {},
   "source": [
    "배열의 shape을 변형해주는 함수"
   ]
  },
  {
   "cell_type": "code",
   "execution_count": 4,
   "id": "463cb3f4",
   "metadata": {},
   "outputs": [],
   "source": [
    "import numpy as np"
   ]
  },
  {
   "cell_type": "code",
   "execution_count": 8,
   "id": "f3c9a43f",
   "metadata": {
    "scrolled": true
   },
   "outputs": [
    {
     "name": "stdout",
     "output_type": "stream",
     "text": [
      "[[1 2]\n",
      " [3 4]\n",
      " [5 6]]\n",
      "[[1]\n",
      " [2]\n",
      " [3]\n",
      " [4]\n",
      " [5]\n",
      " [6]]\n",
      "[[1 2 3 4 5 6]]\n"
     ]
    }
   ],
   "source": [
    "arr=np.array([[1,2,3],[4,5,6]])\n",
    "print(arr.reshape(3,2))\n",
    "print(arr.reshape(6,1))\n",
    "print(arr.reshape(1,6))"
   ]
  },
  {
   "cell_type": "code",
   "execution_count": 11,
   "id": "6719d6fd",
   "metadata": {},
   "outputs": [
    {
     "name": "stdout",
     "output_type": "stream",
     "text": [
      "[[[1 2]]\n",
      "\n",
      " [[3 4]]\n",
      "\n",
      " [[5 6]]]\n",
      "[[1 2]\n",
      " [3 4]\n",
      " [5 6]]\n",
      "[[1 2 3]\n",
      " [4 5 6]]\n"
     ]
    }
   ],
   "source": [
    "print(arr.reshape(3,1,2))\n",
    "\n",
    "print(arr.reshape(-1,2))  ##?x2 배열로 변형 행을 모르겠는데, 열은2개로할때\n",
    "print(arr.reshape(2,-1))  "
   ]
  },
  {
   "cell_type": "code",
   "execution_count": 13,
   "id": "905c791b",
   "metadata": {},
   "outputs": [],
   "source": [
    "tensor=np.array(range(1,37)) ##3,3,4"
   ]
  },
  {
   "cell_type": "code",
   "execution_count": 16,
   "id": "19c23d64",
   "metadata": {},
   "outputs": [
    {
     "ename": "TypeError",
     "evalue": "'builtin_function_or_method' object is not subscriptable",
     "output_type": "error",
     "traceback": [
      "\u001b[1;31m---------------------------------------------------------------------------\u001b[0m",
      "\u001b[1;31mTypeError\u001b[0m                                 Traceback (most recent call last)",
      "Input \u001b[1;32mIn [16]\u001b[0m, in \u001b[0;36m<cell line: 1>\u001b[1;34m()\u001b[0m\n\u001b[1;32m----> 1\u001b[0m \u001b[38;5;28mprint\u001b[39m(\u001b[43mtensor\u001b[49m\u001b[38;5;241;43m.\u001b[39;49m\u001b[43mreshape\u001b[49m\u001b[43m[\u001b[49m\u001b[38;5;241;43m3\u001b[39;49m\u001b[43m,\u001b[49m\u001b[38;5;241;43m3\u001b[39;49m\u001b[43m,\u001b[49m\u001b[38;5;241;43m4\u001b[39;49m\u001b[43m]\u001b[49m)\n",
      "\u001b[1;31mTypeError\u001b[0m: 'builtin_function_or_method' object is not subscriptable"
     ]
    }
   ],
   "source": [
    "print(tensor.reshape[3,3,4])"
   ]
  },
  {
   "cell_type": "markdown",
   "id": "b7f1a533",
   "metadata": {},
   "source": [
    "tensor 배열을 2차원 배열로 변형시켜봅시다. 열의 개수는 9개"
   ]
  },
  {
   "cell_type": "code",
   "execution_count": 17,
   "id": "3212164f",
   "metadata": {},
   "outputs": [
    {
     "ename": "AttributeError",
     "evalue": "'numpy.ndarray' object has no attribute 'reshpe'",
     "output_type": "error",
     "traceback": [
      "\u001b[1;31m---------------------------------------------------------------------------\u001b[0m",
      "\u001b[1;31mAttributeError\u001b[0m                            Traceback (most recent call last)",
      "Input \u001b[1;32mIn [17]\u001b[0m, in \u001b[0;36m<cell line: 1>\u001b[1;34m()\u001b[0m\n\u001b[1;32m----> 1\u001b[0m \u001b[43mtensor\u001b[49m\u001b[38;5;241;43m.\u001b[39;49m\u001b[43mreshpe\u001b[49m\n",
      "\u001b[1;31mAttributeError\u001b[0m: 'numpy.ndarray' object has no attribute 'reshpe'"
     ]
    }
   ],
   "source": [
    "tensor.reshpe"
   ]
  },
  {
   "cell_type": "markdown",
   "id": "5c4b1719",
   "metadata": {},
   "source": [
    "##Flatten\n",
    "다차원 배열 을 1차원배열로 변경"
   ]
  },
  {
   "cell_type": "code",
   "execution_count": 21,
   "id": "0e86fcaa",
   "metadata": {},
   "outputs": [
    {
     "name": "stdout",
     "output_type": "stream",
     "text": [
      "[ 1  2  3  4  5  6  7  8  9 10 11 12 13 14 15 16 17 18 19 20 21 22 23 24\n",
      " 25 26 27 28 29 30 31 32 33 34 35 36]\n"
     ]
    }
   ],
   "source": [
    "print(tensor.flatten())"
   ]
  },
  {
   "cell_type": "markdown",
   "id": "8b0c9dd3",
   "metadata": {},
   "source": [
    "## Arange"
   ]
  },
  {
   "cell_type": "code",
   "execution_count": 22,
   "id": "5f6c3137",
   "metadata": {},
   "outputs": [
    {
     "name": "stdout",
     "output_type": "stream",
     "text": [
      "[ 0  1  2  3  4  5  6  7  8  9 10 11 12 13 14 15 16 17 18 19 20 21 22 23\n",
      " 24 25 26 27 28 29]\n"
     ]
    }
   ],
   "source": [
    "#np.arange(size)\n",
    "print(np.arange(30))"
   ]
  },
  {
   "cell_type": "code",
   "execution_count": 24,
   "id": "18450e72",
   "metadata": {},
   "outputs": [
    {
     "name": "stdout",
     "output_type": "stream",
     "text": [
      "[0 2 4 6 8]\n"
     ]
    }
   ],
   "source": [
    "##np.arnage(start,end,step)\n",
    "print(np.arange(0,10,2))"
   ]
  },
  {
   "cell_type": "code",
   "execution_count": 25,
   "id": "4c2c6a59",
   "metadata": {},
   "outputs": [
    {
     "name": "stdout",
     "output_type": "stream",
     "text": [
      "[[ 1  2  3  4  5]\n",
      " [ 6  7  8  9 10]\n",
      " [11 12 13 14 15]\n",
      " [16 17 18 19 20]\n",
      " [21 22 23 24 25]]\n"
     ]
    }
   ],
   "source": [
    "#Arange,Reshape같이\n",
    "\n",
    "print(np.arange(1,26).reshape(5,5))"
   ]
  },
  {
   "cell_type": "code",
   "execution_count": 26,
   "id": "00006624",
   "metadata": {},
   "outputs": [
    {
     "name": "stdout",
     "output_type": "stream",
     "text": [
      "[[[0.  0.2 0.4 0.6 0.8]\n",
      "  [1.  1.2 1.4 1.6 1.8]]\n",
      "\n",
      " [[2.  2.2 2.4 2.6 2.8]\n",
      "  [3.  3.2 3.4 3.6 3.8]]\n",
      "\n",
      " [[4.  4.2 4.4 4.6 4.8]\n",
      "  [5.  5.2 5.4 5.6 5.8]]]\n"
     ]
    }
   ],
   "source": [
    "print(np.arange(0,6,0.2).reshape(3,2,5))"
   ]
  },
  {
   "cell_type": "code",
   "execution_count": 33,
   "id": "c8dfa8e6",
   "metadata": {},
   "outputs": [
    {
     "name": "stdout",
     "output_type": "stream",
     "text": [
      "[[100 110 120 130 140]\n",
      " [150 160 170 180 190]]\n"
     ]
    }
   ],
   "source": [
    "print(np.arange(100,191,10).reshape(2,5))"
   ]
  },
  {
   "cell_type": "code",
   "execution_count": 40,
   "id": "ead369b3",
   "metadata": {},
   "outputs": [
    {
     "name": "stdout",
     "output_type": "stream",
     "text": [
      "[[[-2.  -1.5 -1. ]\n",
      "  [-0.5  0.   0.5]\n",
      "  [ 1.   1.5  2. ]]]\n"
     ]
    }
   ],
   "source": [
    "print(np.arange(-2,2.1,0.5).reshape(1,3,3))"
   ]
  },
  {
   "cell_type": "markdown",
   "id": "8c3abf39",
   "metadata": {},
   "source": [
    "# Zeros\n",
    "# 0으로 채워진 배열 생성"
   ]
  },
  {
   "cell_type": "code",
   "execution_count": 48,
   "id": "3171be9e",
   "metadata": {},
   "outputs": [
    {
     "name": "stdout",
     "output_type": "stream",
     "text": [
      "[0 0 0 0 0]\n"
     ]
    }
   ],
   "source": [
    "print(np.zeros(shape=(5,),dtype=np.int8))"
   ]
  },
  {
   "cell_type": "code",
   "execution_count": 49,
   "id": "8c2018a9",
   "metadata": {},
   "outputs": [
    {
     "name": "stdout",
     "output_type": "stream",
     "text": [
      "[[0. 0. 0.]\n",
      " [0. 0. 0.]]\n"
     ]
    }
   ],
   "source": [
    "print(np.zeros((2,3)))"
   ]
  },
  {
   "cell_type": "code",
   "execution_count": 50,
   "id": "60a38ae5",
   "metadata": {},
   "outputs": [],
   "source": [
    "##Ones 는 1로 채워짐 zeros와 같음,\n",
    "#empty함수는 비어있는 배열생성 값을주지않음\n"
   ]
  },
  {
   "cell_type": "markdown",
   "id": "d338ecd6",
   "metadata": {},
   "source": [
    "##Zeros_like/Ones_like//Empty_like\n",
    "입력받은 배열과 같은 shape,dtype의 배열생성"
   ]
  },
  {
   "cell_type": "code",
   "execution_count": 52,
   "id": "fa6540ae",
   "metadata": {},
   "outputs": [
    {
     "name": "stdout",
     "output_type": "stream",
     "text": [
      "[[0 0 0 0 0 0]\n",
      " [0 0 0 0 0 0]\n",
      " [0 0 0 0 0 0]\n",
      " [0 0 0 0 0 0]]\n"
     ]
    }
   ],
   "source": [
    "matrix=np.arange(24).reshape(4,6)\n",
    "print(np.zeros_like(matrix))"
   ]
  },
  {
   "cell_type": "code",
   "execution_count": 54,
   "id": "be8e247d",
   "metadata": {},
   "outputs": [
    {
     "name": "stdout",
     "output_type": "stream",
     "text": [
      "[[ 0  1  2  3  4  5]\n",
      " [ 6  7  8  9 10 11]\n",
      " [12 13 14 15 16 17]\n",
      " [18 19 20 21 22 23]\n",
      " [24 25 26 27 28 29]]\n"
     ]
    }
   ],
   "source": [
    "matrix=np.arange(30).reshape(5,6)\n",
    "print(np.empty_like(matrix))"
   ]
  },
  {
   "cell_type": "code",
   "execution_count": 55,
   "id": "92b4af68",
   "metadata": {},
   "outputs": [],
   "source": [
    "## Identity 단위행렬 대각선이 1이고 나머지가 0인 정사각형행렬\n"
   ]
  },
  {
   "cell_type": "code",
   "execution_count": 56,
   "id": "25be1784",
   "metadata": {},
   "outputs": [
    {
     "name": "stdout",
     "output_type": "stream",
     "text": [
      "[[1 0 0 0 0]\n",
      " [0 1 0 0 0]\n",
      " [0 0 1 0 0]\n",
      " [0 0 0 1 0]\n",
      " [0 0 0 0 1]]\n"
     ]
    }
   ],
   "source": [
    "print(np.identity(5,dtype=np.int8))"
   ]
  },
  {
   "cell_type": "code",
   "execution_count": 57,
   "id": "e495732b",
   "metadata": {},
   "outputs": [
    {
     "name": "stdout",
     "output_type": "stream",
     "text": [
      "[[1. 0.]\n",
      " [0. 1.]]\n"
     ]
    }
   ],
   "source": [
    "print(np.identity(2))"
   ]
  },
  {
   "cell_type": "code",
   "execution_count": 59,
   "id": "8204d0ea",
   "metadata": {
    "scrolled": true
   },
   "outputs": [
    {
     "name": "stdout",
     "output_type": "stream",
     "text": [
      "[[1 0 0 0 0]\n",
      " [0 1 0 0 0]\n",
      " [0 0 1 0 0]\n",
      " [0 0 0 1 0]\n",
      " [0 0 0 0 1]]\n"
     ]
    }
   ],
   "source": [
    "##Eye\n",
    "#대각선이 1로 채워지는 행렬\n",
    "#대각선의 시작 위치 지정가능 \n",
    "#np.eye(size,M,K,dtype)\n",
    "print(np.eye(5,dtype=np.int8))"
   ]
  },
  {
   "cell_type": "code",
   "execution_count": 61,
   "id": "3cf6a056",
   "metadata": {},
   "outputs": [
    {
     "name": "stdout",
     "output_type": "stream",
     "text": [
      "[[0. 1. 0. 0. 0. 0. 0. 0. 0. 0.]\n",
      " [0. 0. 1. 0. 0. 0. 0. 0. 0. 0.]\n",
      " [0. 0. 0. 1. 0. 0. 0. 0. 0. 0.]\n",
      " [0. 0. 0. 0. 1. 0. 0. 0. 0. 0.]\n",
      " [0. 0. 0. 0. 0. 1. 0. 0. 0. 0.]]\n"
     ]
    }
   ],
   "source": [
    "print(np.eye(5,M=10,k=1))"
   ]
  },
  {
   "cell_type": "code",
   "execution_count": 65,
   "id": "9a0db581",
   "metadata": {},
   "outputs": [
    {
     "name": "stdout",
     "output_type": "stream",
     "text": [
      "[[5 5 5 5 5]\n",
      " [5 5 5 5 5]]\n"
     ]
    }
   ],
   "source": [
    "##FULL\n",
    "##입력값으로 채움\n",
    "##np.full(shape),value)\n",
    "print(np.full((2,5),5))"
   ]
  },
  {
   "cell_type": "code",
   "execution_count": 68,
   "id": "b6e99f4d",
   "metadata": {},
   "outputs": [
    {
     "name": "stdout",
     "output_type": "stream",
     "text": [
      "5\n",
      "[ 9 11]\n"
     ]
    }
   ],
   "source": [
    "##Random.randint\n",
    "#np.random.randint(range)\n",
    "##0~5까지 정수중하나뽑기\n",
    "print(np.random.randint(6))\n",
    "#1~19까지의 정수뽑기\n",
    "print(np.random.randint(1,20,2))"
   ]
  },
  {
   "cell_type": "code",
   "execution_count": 70,
   "id": "3bffaaee",
   "metadata": {},
   "outputs": [
    {
     "name": "stdout",
     "output_type": "stream",
     "text": [
      "[0.90791078 0.42814884 0.73269556]\n"
     ]
    }
   ],
   "source": [
    "#Random.rand\n",
    "#랜덤한 값으로 채워지는 배열\n",
    "#0~1사이의 값을 가짐\n",
    "#np.random.rand(shape)\n",
    "print(np.random.rand(3))"
   ]
  },
  {
   "cell_type": "code",
   "execution_count": 72,
   "id": "3201c5b8",
   "metadata": {},
   "outputs": [
    {
     "name": "stdout",
     "output_type": "stream",
     "text": [
      "[0.66748804 0.53513545 0.81843303]\n"
     ]
    }
   ],
   "source": [
    "print(np.random.randn(3))  ##- 임.."
   ]
  },
  {
   "cell_type": "code",
   "execution_count": 73,
   "id": "cdbefa87",
   "metadata": {},
   "outputs": [
    {
     "name": "stdout",
     "output_type": "stream",
     "text": [
      "[[1 2 3]\n",
      " [4 5 6]]\n"
     ]
    }
   ],
   "source": [
    "#sum\n",
    "matrix =np.arange(1,7).reshape(2,3)\n",
    "print(matrix)"
   ]
  },
  {
   "cell_type": "code",
   "execution_count": 74,
   "id": "88c06e89",
   "metadata": {},
   "outputs": [
    {
     "data": {
      "text/plain": [
       "21"
      ]
     },
     "execution_count": 74,
     "metadata": {},
     "output_type": "execute_result"
    }
   ],
   "source": [
    "matrix.sum()"
   ]
  },
  {
   "cell_type": "code",
   "execution_count": 77,
   "id": "978af9ea",
   "metadata": {},
   "outputs": [
    {
     "name": "stdout",
     "output_type": "stream",
     "text": [
      "[5 7 9]\n",
      "[ 6 15]\n"
     ]
    }
   ],
   "source": [
    "print(matrix.sum(axis=0))## 열 합\n",
    "print(matrix.sum(axis=1))## 행 합"
   ]
  },
  {
   "cell_type": "code",
   "execution_count": 79,
   "id": "5de2e597",
   "metadata": {},
   "outputs": [
    {
     "name": "stdout",
     "output_type": "stream",
     "text": [
      "[2.5 3.5 4.5]\n",
      "[2. 5.]\n"
     ]
    }
   ],
   "source": [
    "##평균\n",
    "#print(matrix,mean())\n",
    "print(matrix.mean(axis=0)) ##행 끼리 평균\n",
    "print(matrix.mean(axis=1)) ##열 끼리 평균\n"
   ]
  },
  {
   "cell_type": "code",
   "execution_count": 81,
   "id": "6fb5660f",
   "metadata": {},
   "outputs": [
    {
     "name": "stdout",
     "output_type": "stream",
     "text": [
      "1.707825127659933\n",
      "[1.5 1.5 1.5]\n",
      "[0.81649658 0.81649658]\n"
     ]
    }
   ],
   "source": [
    "##표준편차 (std)\n",
    "print(matrix.std())\n",
    "print(matrix.std(axis=0)) \n",
    "print(matrix.std(axis=1)) "
   ]
  },
  {
   "cell_type": "code",
   "execution_count": 84,
   "id": "e715be66",
   "metadata": {},
   "outputs": [
    {
     "name": "stdout",
     "output_type": "stream",
     "text": [
      "[66 91  4 15 28]\n"
     ]
    }
   ],
   "source": [
    "## sort\n",
    "#배열으 순선대로 정렬\n",
    "#1~100 숫자 중 5개를 뽑아 배열생성\n",
    "vector=np.array([np.random.randint(1,100)\n",
    "               for n in range(5)])\n",
    "print(vector)"
   ]
  },
  {
   "cell_type": "code",
   "execution_count": 89,
   "id": "4fd53e58",
   "metadata": {},
   "outputs": [
    {
     "name": "stdout",
     "output_type": "stream",
     "text": [
      "[ 4 15 28 66 91]\n",
      "[91 66 28 15  4]\n"
     ]
    }
   ],
   "source": [
    "print(np.sort(vector))\n",
    "print(np.sort(vector)[::-1])  #리버스"
   ]
  },
  {
   "cell_type": "code",
   "execution_count": 102,
   "id": "b546cb2e",
   "metadata": {},
   "outputs": [
    {
     "ename": "NameError",
     "evalue": "name 'reshape' is not defined",
     "output_type": "error",
     "traceback": [
      "\u001b[1;31m---------------------------------------------------------------------------\u001b[0m",
      "\u001b[1;31mNameError\u001b[0m                                 Traceback (most recent call last)",
      "Input \u001b[1;32mIn [102]\u001b[0m, in \u001b[0;36m<cell line: 1>\u001b[1;34m()\u001b[0m\n\u001b[0;32m      1\u001b[0m matrix\u001b[38;5;241m=\u001b[39mnp\u001b[38;5;241m.\u001b[39marray(np\u001b[38;5;241m.\u001b[39mrandom\u001b[38;5;241m.\u001b[39mrandint(\u001b[38;5;241m1\u001b[39m,\u001b[38;5;241m100\u001b[39m)\n\u001b[1;32m----> 2\u001b[0m                 \u001b[38;5;28;01mfor\u001b[39;00m n \u001b[38;5;129;01min\u001b[39;00m \u001b[38;5;28mrange\u001b[39m(\u001b[38;5;241m20\u001b[39m)),\u001b[43mreshape\u001b[49m[\u001b[38;5;241m4\u001b[39m,\u001b[38;5;241m5\u001b[39m]\n\u001b[0;32m      4\u001b[0m \u001b[38;5;28mprint\u001b[39m(matrix)\n",
      "\u001b[1;31mNameError\u001b[0m: name 'reshape' is not defined"
     ]
    }
   ],
   "source": [
    "matrix=np.array(np.random.randint(1,100)\n",
    "                for n in range(20)),reshape[4,5]\n",
    "\n",
    "print(matrix)"
   ]
  },
  {
   "cell_type": "code",
   "execution_count": 105,
   "id": "55af395c",
   "metadata": {},
   "outputs": [
    {
     "name": "stdout",
     "output_type": "stream",
     "text": [
      "[[1 2 3]\n",
      " [4 5 6]]\n"
     ]
    }
   ],
   "source": [
    "##Vstack 배열합치기\n",
    "#2개이상의 배열을 수직으로 합체\n",
    "#np.vstack([arr1,arr2])\n",
    "vector1=np.array([1,2,3])\n",
    "vector2=np.array([4,5,6])\n",
    "print(np.vstack([vector1,vector2]))"
   ]
  },
  {
   "cell_type": "code",
   "execution_count": 108,
   "id": "4afbb8bc",
   "metadata": {},
   "outputs": [
    {
     "name": "stdout",
     "output_type": "stream",
     "text": [
      "[[1 4]\n",
      " [2 5]\n",
      " [3 6]]\n"
     ]
    }
   ],
   "source": [
    "##Hstack 배열합치기\n",
    "#2개이상의 배열을 수평으로 합체\n",
    "#np.hstack([arr1,arr2])\n",
    "vector1=np.array([1,2,3]).reshape(3,1)\n",
    "vector2=np.array([4,5,6]).reshape(3,1)\n",
    "print(np.hstack([vector1,vector2]))"
   ]
  },
  {
   "cell_type": "code",
   "execution_count": 115,
   "id": "9ebb6ed5",
   "metadata": {},
   "outputs": [
    {
     "name": "stdout",
     "output_type": "stream",
     "text": [
      "[1 2 3]\n"
     ]
    }
   ],
   "source": [
    "##배열 합치기 Concatenate\n",
    "#2개이상의 배열을 수직,수평합치기\n",
    "\n",
    "vector1=np.array([1,2,3])\n",
    "vector2=np.array([4,5,6])\n",
    "print(np.concatenate([vector1,vector2],axis=0)) #1은 안됨"
   ]
  },
  {
   "cell_type": "code",
   "execution_count": 119,
   "id": "76f041c0",
   "metadata": {},
   "outputs": [
    {
     "name": "stdout",
     "output_type": "stream",
     "text": [
      "[[1 2 5 6]\n",
      " [3 4 7 8]]\n"
     ]
    }
   ],
   "source": [
    "v1=np.arange(1,5).reshape(2,2)\n",
    "v2=np.arange(5,9).reshape(2,2)\n",
    "print(np.concatenate([v1,v2],axis=1))"
   ]
  },
  {
   "cell_type": "code",
   "execution_count": 142,
   "id": "e8b0ec44",
   "metadata": {},
   "outputs": [
    {
     "name": "stdout",
     "output_type": "stream",
     "text": [
      "[[5 6]]\n"
     ]
    }
   ],
   "source": [
    "##행과열 바꾸기 traspose\n",
    "#matrix3=np.array([5,6])\n",
    "#ndarray.T\n",
    "matrix3=np.array([[5,6]])\n",
    "print(matrix3)"
   ]
  },
  {
   "cell_type": "code",
   "execution_count": 143,
   "id": "03b17c4e",
   "metadata": {},
   "outputs": [
    {
     "name": "stdout",
     "output_type": "stream",
     "text": [
      "[[5]\n",
      " [6]]\n"
     ]
    }
   ],
   "source": [
    "print(matrix3.T)"
   ]
  },
  {
   "cell_type": "code",
   "execution_count": 147,
   "id": "0774e7dd",
   "metadata": {},
   "outputs": [
    {
     "name": "stdout",
     "output_type": "stream",
     "text": [
      "[[ 1  2  3  4  5]\n",
      " [ 6  7  8  9 10]]\n",
      "9 0\n"
     ]
    }
   ],
   "source": [
    "## 인데스 반환 함수\n",
    "a= np.arange(1,11).reshape(2,5)\n",
    "print(a)\n",
    "print(np.argmax(a),np.argmin(a))  ##a,aix=0"
   ]
  },
  {
   "cell_type": "markdown",
   "id": "f969ef45",
   "metadata": {},
   "source": [
    "## 배열 인덱싱 (Fancy index)"
   ]
  },
  {
   "cell_type": "code",
   "execution_count": 153,
   "id": "383423c4",
   "metadata": {},
   "outputs": [
    {
     "name": "stdout",
     "output_type": "stream",
     "text": [
      "[ 1  2  3  4  5  6  7  8  9 10]\n",
      "[3 4 5 6]\n",
      "[4 5 6 7]\n"
     ]
    }
   ],
   "source": [
    "a=np.arange(1,11)\n",
    "b=np.array([3,4,5,6])\n",
    "print(a)\n",
    "print(b)\n",
    "print(a[b])"
   ]
  },
  {
   "cell_type": "code",
   "execution_count": 155,
   "id": "20c2a88d",
   "metadata": {},
   "outputs": [
    {
     "name": "stdout",
     "output_type": "stream",
     "text": [
      "[10 11 12 13 14 15 16 17 18 19]\n",
      "9\n",
      "19\n"
     ]
    }
   ],
   "source": [
    "a=np.arange(10,20)\n",
    "b=np.argmax(a)\n",
    "print(a)\n",
    "print(b)\n",
    "print(a[b])"
   ]
  },
  {
   "cell_type": "code",
   "execution_count": null,
   "id": "f332ba27",
   "metadata": {},
   "outputs": [],
   "source": []
  }
 ],
 "metadata": {
  "kernelspec": {
   "display_name": "Python 3 (ipykernel)",
   "language": "python",
   "name": "python3"
  },
  "language_info": {
   "codemirror_mode": {
    "name": "ipython",
    "version": 3
   },
   "file_extension": ".py",
   "mimetype": "text/x-python",
   "name": "python",
   "nbconvert_exporter": "python",
   "pygments_lexer": "ipython3",
   "version": "3.9.12"
  }
 },
 "nbformat": 4,
 "nbformat_minor": 5
}
