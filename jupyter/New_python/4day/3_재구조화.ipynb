{
 "cells": [
  {
   "cell_type": "code",
   "execution_count": 1,
   "id": "b70d0c7a",
   "metadata": {},
   "outputs": [],
   "source": [
    "import pandas as pd"
   ]
  },
  {
   "cell_type": "code",
   "execution_count": 2,
   "id": "b0d7fd54",
   "metadata": {},
   "outputs": [],
   "source": [
    "file_path='./data/exam_sample.csv'\n",
    "df=pd.read_csv(file_path,encoding='euc-kr')"
   ]
  },
  {
   "cell_type": "code",
   "execution_count": 6,
   "id": "7d154923",
   "metadata": {},
   "outputs": [
    {
     "name": "stdout",
     "output_type": "stream",
     "text": [
      "90\n",
      "20\n"
     ]
    }
   ],
   "source": [
    "print(df['math'].max())\n",
    "print(df['math'].min())"
   ]
  },
  {
   "cell_type": "code",
   "execution_count": 7,
   "id": "76788bab",
   "metadata": {},
   "outputs": [
    {
     "data": {
      "text/plain": [
       "0    (43.333, 66.667]\n",
       "1    (43.333, 66.667]\n",
       "2    (43.333, 66.667]\n",
       "3     (19.93, 43.333]\n",
       "4      (66.667, 90.0]\n",
       "5    (43.333, 66.667]\n",
       "6      (66.667, 90.0]\n",
       "7      (66.667, 90.0]\n",
       "8     (19.93, 43.333]\n",
       "9    (43.333, 66.667]\n",
       "Name: math, dtype: category\n",
       "Categories (3, interval[float64, right]): [(19.93, 43.333] < (43.333, 66.667] < (66.667, 90.0]]"
      ]
     },
     "execution_count": 7,
     "metadata": {},
     "output_type": "execute_result"
    }
   ],
   "source": [
    "##cut() 측정 데이터를 동일한 간격으로 구분할 때 사용\n",
    "\n",
    "pd.cut(df['math'],3)"
   ]
  },
  {
   "cell_type": "code",
   "execution_count": 12,
   "id": "186e8c65",
   "metadata": {},
   "outputs": [],
   "source": [
    "df1= pd.cut(df['math'],3,labels=False)"
   ]
  },
  {
   "cell_type": "code",
   "execution_count": 15,
   "id": "f417cc35",
   "metadata": {},
   "outputs": [
    {
     "data": {
      "text/plain": [
       "0    1\n",
       "1    1\n",
       "2    1\n",
       "3    0\n",
       "4    2\n",
       "5    1\n",
       "6    2\n",
       "7    2\n",
       "8    0\n",
       "9    1\n",
       "Name: math, dtype: int64"
      ]
     },
     "execution_count": 15,
     "metadata": {},
     "output_type": "execute_result"
    }
   ],
   "source": [
    "df1"
   ]
  },
  {
   "cell_type": "code",
   "execution_count": 20,
   "id": "d0bd97cc",
   "metadata": {},
   "outputs": [
    {
     "data": {
      "text/plain": [
       "0    50\n",
       "1    60\n",
       "2    45\n",
       "3    30\n",
       "4    90\n",
       "5    50\n",
       "6    80\n",
       "7    90\n",
       "8    20\n",
       "9    50\n",
       "Name: math, dtype: int64"
      ]
     },
     "execution_count": 20,
     "metadata": {},
     "output_type": "execute_result"
    }
   ],
   "source": [
    "df2=df['math'].groupby(df1)\n",
    "df2.head()"
   ]
  },
  {
   "cell_type": "code",
   "execution_count": 21,
   "id": "43ee51d5",
   "metadata": {},
   "outputs": [
    {
     "data": {
      "text/html": [
       "<div>\n",
       "<style scoped>\n",
       "    .dataframe tbody tr th:only-of-type {\n",
       "        vertical-align: middle;\n",
       "    }\n",
       "\n",
       "    .dataframe tbody tr th {\n",
       "        vertical-align: top;\n",
       "    }\n",
       "\n",
       "    .dataframe thead th {\n",
       "        text-align: right;\n",
       "    }\n",
       "</style>\n",
       "<table border=\"1\" class=\"dataframe\">\n",
       "  <thead>\n",
       "    <tr style=\"text-align: right;\">\n",
       "      <th></th>\n",
       "      <th>count</th>\n",
       "      <th>mean</th>\n",
       "      <th>std</th>\n",
       "      <th>min</th>\n",
       "      <th>max</th>\n",
       "    </tr>\n",
       "    <tr>\n",
       "      <th>math</th>\n",
       "      <th></th>\n",
       "      <th></th>\n",
       "      <th></th>\n",
       "      <th></th>\n",
       "      <th></th>\n",
       "    </tr>\n",
       "  </thead>\n",
       "  <tbody>\n",
       "    <tr>\n",
       "      <th>0</th>\n",
       "      <td>2</td>\n",
       "      <td>25.000000</td>\n",
       "      <td>7.071068</td>\n",
       "      <td>20</td>\n",
       "      <td>30</td>\n",
       "    </tr>\n",
       "    <tr>\n",
       "      <th>1</th>\n",
       "      <td>5</td>\n",
       "      <td>51.000000</td>\n",
       "      <td>5.477226</td>\n",
       "      <td>45</td>\n",
       "      <td>60</td>\n",
       "    </tr>\n",
       "    <tr>\n",
       "      <th>2</th>\n",
       "      <td>3</td>\n",
       "      <td>86.666667</td>\n",
       "      <td>5.773503</td>\n",
       "      <td>80</td>\n",
       "      <td>90</td>\n",
       "    </tr>\n",
       "  </tbody>\n",
       "</table>\n",
       "</div>"
      ],
      "text/plain": [
       "      count       mean       std  min  max\n",
       "math                                      \n",
       "0         2  25.000000  7.071068   20   30\n",
       "1         5  51.000000  5.477226   45   60\n",
       "2         3  86.666667  5.773503   80   90"
      ]
     },
     "execution_count": 21,
     "metadata": {},
     "output_type": "execute_result"
    }
   ],
   "source": [
    "df2.agg(['count','mean','std','min','max'])"
   ]
  },
  {
   "cell_type": "code",
   "execution_count": 23,
   "id": "47b4decc",
   "metadata": {},
   "outputs": [
    {
     "data": {
      "text/plain": [
       "0      (42.0, 50.0]\n",
       "1      (54.0, 82.0]\n",
       "2      (42.0, 50.0]\n",
       "3    (19.999, 42.0]\n",
       "4      (82.0, 90.0]\n",
       "5      (42.0, 50.0]\n",
       "6      (54.0, 82.0]\n",
       "7      (82.0, 90.0]\n",
       "8    (19.999, 42.0]\n",
       "9      (42.0, 50.0]\n",
       "Name: math, dtype: category\n",
       "Categories (5, interval[float64, right]): [(19.999, 42.0] < (42.0, 50.0] < (50.0, 54.0] < (54.0, 82.0] < (82.0, 90.0]]"
      ]
     },
     "execution_count": 23,
     "metadata": {},
     "output_type": "execute_result"
    }
   ],
   "source": [
    "#유사한 값들을 5구간으로 나누고 ㅁㄲ음\n",
    "d.qcut(df['math'],5)"
   ]
  },
  {
   "cell_type": "code",
   "execution_count": 24,
   "id": "65cbeaee",
   "metadata": {},
   "outputs": [
    {
     "data": {
      "text/plain": [
       "0    1\n",
       "1    3\n",
       "2    1\n",
       "3    0\n",
       "4    4\n",
       "5    1\n",
       "6    3\n",
       "7    4\n",
       "8    0\n",
       "9    1\n",
       "Name: math, dtype: int64"
      ]
     },
     "execution_count": 24,
     "metadata": {},
     "output_type": "execute_result"
    }
   ],
   "source": [
    "pd.qcut(df['math'],5,labels=False)"
   ]
  },
  {
   "cell_type": "code",
   "execution_count": null,
   "id": "353fe486",
   "metadata": {},
   "outputs": [],
   "source": []
  }
 ],
 "metadata": {
  "kernelspec": {
   "display_name": "Python 3 (ipykernel)",
   "language": "python",
   "name": "python3"
  },
  "language_info": {
   "codemirror_mode": {
    "name": "ipython",
    "version": 3
   },
   "file_extension": ".py",
   "mimetype": "text/x-python",
   "name": "python",
   "nbconvert_exporter": "python",
   "pygments_lexer": "ipython3",
   "version": "3.9.12"
  }
 },
 "nbformat": 4,
 "nbformat_minor": 5
}
