{
 "cells": [
  {
   "cell_type": "code",
   "execution_count": null,
   "id": "22a1ddb1",
   "metadata": {},
   "outputs": [],
   "source": [
    "'''\n",
    "[문제]\n",
    "dict_val이라는 딕셔너리 변수에\n",
    "아래 값을 넣기\n",
    "a키에는 리스트 \"aa\",\"bb\",\"cc\"넣기\n",
    "b키에는 리스트 \"a\",\"b\",\"c\"넣기\n",
    "\n",
    "dict_val에 들어있는키값에 대한 리스트 출력하기\n",
    "'''"
   ]
  },
  {
   "cell_type": "code",
   "execution_count": 2,
   "id": "38eb9b29",
   "metadata": {},
   "outputs": [
    {
     "name": "stdout",
     "output_type": "stream",
     "text": [
      "['aa', 'bb', 'cc']\n",
      "['a', 'b', 'c']\n"
     ]
    }
   ],
   "source": [
    "dict_val = {\"a\" : [\"aa\",\"bb\",\"cc\"],\n",
    "           \"b\" : [\"a\",\"b\",\"c\"]}\n",
    "print(dict_val[\"a\"])\n",
    "print(dict_val[\"b\"])"
   ]
  },
  {
   "cell_type": "code",
   "execution_count": 3,
   "id": "72bfb2fa",
   "metadata": {},
   "outputs": [
    {
     "data": {
      "text/plain": [
       "{'a': ['aa', 'bb', 'cc'], 'b': ['a', 'b', 'c']}"
      ]
     },
     "execution_count": 3,
     "metadata": {},
     "output_type": "execute_result"
    }
   ],
   "source": [
    "dict_val"
   ]
  },
  {
   "cell_type": "code",
   "execution_count": 4,
   "id": "7243c8b3",
   "metadata": {},
   "outputs": [
    {
     "name": "stdout",
     "output_type": "stream",
     "text": [
      "['aa', 'bb', 'cc']\n",
      "['a', 'b', 'c']\n"
     ]
    }
   ],
   "source": [
    "for k in dict_val:\n",
    "    print(dict_val[k])"
   ]
  },
  {
   "cell_type": "code",
   "execution_count": 29,
   "id": "c9381e39",
   "metadata": {},
   "outputs": [
    {
     "name": "stdout",
     "output_type": "stream",
     "text": [
      "['aa', 'bb', 'cc']\n",
      "aa\n",
      "bb\n",
      "cc\n",
      "aa\n",
      "aa\n",
      "bb\n",
      "cc\n",
      "['aa', 'bb', 'cc']\n",
      "['aa', 'bb', 'cc']\n",
      "['aa', 'bb', 'cc']\n",
      "bb\n",
      "aa\n",
      "bb\n",
      "cc\n",
      "['aa', 'bb', 'cc']\n",
      "['aa', 'bb', 'cc']\n",
      "['aa', 'bb', 'cc']\n",
      "cc\n",
      "aa\n",
      "bb\n",
      "cc\n",
      "['aa', 'bb', 'cc']\n",
      "['aa', 'bb', 'cc']\n",
      "['aa', 'bb', 'cc']\n",
      "['a', 'b', 'c']\n",
      "a\n",
      "b\n",
      "c\n",
      "a\n",
      "a\n",
      "b\n",
      "c\n",
      "['a', 'b', 'c']\n",
      "['a', 'b', 'c']\n",
      "['a', 'b', 'c']\n",
      "b\n",
      "a\n",
      "b\n",
      "c\n",
      "['a', 'b', 'c']\n",
      "['a', 'b', 'c']\n",
      "['a', 'b', 'c']\n",
      "c\n",
      "a\n",
      "b\n",
      "c\n",
      "['a', 'b', 'c']\n",
      "['a', 'b', 'c']\n",
      "['a', 'b', 'c']\n"
     ]
    }
   ],
   "source": [
    "for k in dict_val :\n",
    "    #key의 값 가지고 오기\n",
    "    print(dict_val[k])\n",
    "    list_val = dict_val[k]\n",
    "    #리스트 값을 이용하는 방식\n",
    "    for val in dict_val[k]:\n",
    "        print(val)\n",
    "    #리스트의 인덱스번호를 이용하는 방식\n",
    "    for i in range(0,len(dict_val[k])):\n",
    "        print(dict_val[k][i])\n",
    "        \n",
    "        for val in list_val : \n",
    "            print(val)\n",
    "        for i in range(0, len(list_val)):\n",
    "            print(list_val)"
   ]
  },
  {
   "cell_type": "code",
   "execution_count": null,
   "id": "eac45b35",
   "metadata": {},
   "outputs": [],
   "source": [
    "'''\n",
    "list_val 이라는 리스트 변수에 딕셔너리 값을 넣기\n",
    "첫번째 리스트값 a키에 'aa','bb','cc' 넣기\n",
    "두번째 리스트값 b키에 'a','b','c' 넣기\n",
    "'''"
   ]
  },
  {
   "cell_type": "code",
   "execution_count": 7,
   "id": "6165f38b",
   "metadata": {},
   "outputs": [],
   "source": [
    "list_val=[{\"a\":[\"aa\",\"bb\",\"cc\"]},\n",
    "           {\"b\":[\"a\",\"b\",\"c\"]}]"
   ]
  },
  {
   "cell_type": "code",
   "execution_count": 8,
   "id": "5f67e216",
   "metadata": {},
   "outputs": [
    {
     "data": {
      "text/plain": [
       "[{'a': ['aa', 'bb', 'cc']}, {'b': ['a', 'b', 'c']}]"
      ]
     },
     "execution_count": 8,
     "metadata": {},
     "output_type": "execute_result"
    }
   ],
   "source": [
    "list_val"
   ]
  },
  {
   "cell_type": "code",
   "execution_count": 9,
   "id": "062050b9",
   "metadata": {},
   "outputs": [
    {
     "data": {
      "text/plain": [
       "[{'a': ['aa', 'bb', 'cc']}, {'b': ['a', 'b', 'c']}]"
      ]
     },
     "execution_count": 9,
     "metadata": {},
     "output_type": "execute_result"
    }
   ],
   "source": [
    "dict1 = {\"a\" : [\"aa\",\"bb\",\"cc\"]}\n",
    "dict2 = {\"b\" : [\"a\",\"b\",\"c\"]}\n",
    "list_val2 = [dict1,dict2]\n",
    "list_val2"
   ]
  },
  {
   "cell_type": "code",
   "execution_count": 47,
   "id": "a6e60828",
   "metadata": {},
   "outputs": [],
   "source": [
    "#list_val에 들어있는 딕셔너리의 키에 대응하는 값을 모두 출력하세요"
   ]
  },
  {
   "cell_type": "code",
   "execution_count": 10,
   "id": "fcaa59c1",
   "metadata": {},
   "outputs": [
    {
     "name": "stdout",
     "output_type": "stream",
     "text": [
      "{'a': ['aa', 'bb', 'cc']}\n",
      "{'b': ['a', 'b', 'c']}\n"
     ]
    }
   ],
   "source": [
    "for d in list_val:\n",
    "    print(d)\n",
    "    \n",
    "    #d는 이때 딕셔너리 타입 --갑으로 나타냄"
   ]
  },
  {
   "cell_type": "code",
   "execution_count": 15,
   "id": "fc549696",
   "metadata": {},
   "outputs": [
    {
     "name": "stdout",
     "output_type": "stream",
     "text": [
      "{'a': ['aa', 'bb', 'cc']}\n",
      "['aa', 'bb', 'cc']\n",
      "aa\n",
      "bb\n",
      "cc\n",
      "{'b': ['a', 'b', 'c']}\n",
      "['a', 'b', 'c']\n",
      "a\n",
      "b\n",
      "c\n"
     ]
    }
   ],
   "source": [
    "for d in list_val:\n",
    "    print(d)\n",
    "    #d값내에서 각값을 나타내라\n",
    "    \n",
    "    for k in d:\n",
    "        print(d[k])\n",
    "        #리스트값이나옴\n",
    "        \n",
    "        for v in d[k]:\n",
    "            print(v)"
   ]
  },
  {
   "cell_type": "code",
   "execution_count": null,
   "id": "7566c694",
   "metadata": {},
   "outputs": [],
   "source": [
    "#i위 list_val에 들어있는 딕셔너리의 카에 대응하는 값중에\n",
    "#'b'라는 단어가 들어 있으면 해당 키에 대응하는 값을 list_temp라는 리스트변수에 담아주세요\n",
    "#list_temp에 값이 잘 담겨있는 지 출력"
   ]
  },
  {
   "cell_type": "code",
   "execution_count": 77,
   "id": "b419f389",
   "metadata": {},
   "outputs": [
    {
     "data": {
      "text/plain": [
       "[{'a': ['aa', 'bb', 'cc']}, {'b': ['a', 'b', 'c']}]"
      ]
     },
     "execution_count": 77,
     "metadata": {},
     "output_type": "execute_result"
    }
   ],
   "source": [
    "list_val"
   ]
  },
  {
   "cell_type": "code",
   "execution_count": 97,
   "id": "89e7bdfc",
   "metadata": {},
   "outputs": [
    {
     "name": "stdout",
     "output_type": "stream",
     "text": [
      "{'a': ['aa', 'bb', 'cc']}\n",
      "['aa', 'bb', 'cc']\n",
      "aa\n",
      "----------\n",
      "a\n",
      "----------\n",
      "False\n",
      "bb\n",
      "----------\n",
      "b\n",
      "----------\n",
      "True\n",
      "cc\n",
      "----------\n",
      "c\n",
      "----------\n",
      "False\n",
      "{'b': ['a', 'b', 'c']}\n",
      "['a', 'b', 'c']\n",
      "a\n",
      "----------\n",
      "a\n",
      "----------\n",
      "False\n",
      "b\n",
      "----------\n",
      "b\n",
      "----------\n",
      "True\n",
      "c\n",
      "----------\n",
      "c\n",
      "----------\n",
      "False\n"
     ]
    },
    {
     "data": {
      "text/plain": [
       "['bb', 'b']"
      ]
     },
     "execution_count": 97,
     "metadata": {},
     "output_type": "execute_result"
    }
   ],
   "source": [
    "list_temp = []\n",
    "for d in list_val:\n",
    "    print(d)\n",
    "    # d값내에서 각값을 나타내라\n",
    "    \n",
    "    for k in d:\n",
    "        print(d[k])\n",
    "        #리스트값이나옴\n",
    "        \n",
    "        for v in d[k]:\n",
    "            print(v)\n",
    "            print('----------')\n",
    "            print(v[0])\n",
    "            print('----------')\n",
    "            \n",
    "#            if v[0]=='b':\n",
    "#               list_temp.append(v)\n",
    "            print(v.find('b')==0)\n",
    "            if v.find('b')==0:\n",
    "                list_temp.append(v)\n",
    "list_temp\n",
    "\n",
    "##v라는 문자열 'b'가 없으면 -1, 있으면0번째위치라서0 0은찾음,ab일경우 0보다 클때로 바꿈"
   ]
  },
  {
   "cell_type": "code",
   "execution_count": 98,
   "id": "e88218d9",
   "metadata": {},
   "outputs": [
    {
     "data": {
      "text/plain": [
       "[{'a': ['aa', 'bb', 'cc']}, {'b': ['a', 'b', 'c']}]"
      ]
     },
     "execution_count": 98,
     "metadata": {},
     "output_type": "execute_result"
    }
   ],
   "source": [
    "list_val"
   ]
  },
  {
   "cell_type": "code",
   "execution_count": 99,
   "id": "75a0a9d1",
   "metadata": {},
   "outputs": [
    {
     "data": {
      "text/plain": [
       "2"
      ]
     },
     "execution_count": 99,
     "metadata": {},
     "output_type": "execute_result"
    }
   ],
   "source": [
    "len(list_val)"
   ]
  },
  {
   "cell_type": "code",
   "execution_count": 100,
   "id": "94920127",
   "metadata": {},
   "outputs": [],
   "source": [
    "for i in range(0,len(list_val)):  ## 0번째 시작, 그다음값은 -1임 무조건\n",
    "    list_val[i]"
   ]
  },
  {
   "cell_type": "code",
   "execution_count": 101,
   "id": "0f3b5111",
   "metadata": {},
   "outputs": [],
   "source": [
    "for v in list_val:\n",
    "    v"
   ]
  },
  {
   "cell_type": "code",
   "execution_count": null,
   "id": "ae9c3b80",
   "metadata": {},
   "outputs": [],
   "source": []
  }
 ],
 "metadata": {
  "interpreter": {
   "hash": "d0c33c62d04d14f3798401ca790c126fc148980e0482cdfed580687e44fae94b"
  },
  "kernelspec": {
   "display_name": "Python 3.9.12 64-bit",
   "language": "python",
   "name": "python3"
  },
  "language_info": {
   "codemirror_mode": {
    "name": "ipython",
    "version": 3
   },
   "file_extension": ".py",
   "mimetype": "text/x-python",
   "name": "python",
   "nbconvert_exporter": "python",
   "pygments_lexer": "ipython3",
   "version": "3.9.12"
  }
 },
 "nbformat": 4,
 "nbformat_minor": 5
}
