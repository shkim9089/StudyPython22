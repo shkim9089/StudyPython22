{
 "cells": [
  {
   "cell_type": "markdown",
   "id": "2078506f",
   "metadata": {},
   "source": [
    "# #Numpy 파이 입출력"
   ]
  },
  {
   "cell_type": "code",
   "execution_count": 5,
   "id": "f3fb0e29",
   "metadata": {},
   "outputs": [],
   "source": [
    "#파일 처리  \n",
    "import numpy as np"
   ]
  },
  {
   "cell_type": "code",
   "execution_count": 19,
   "id": "843b813e",
   "metadata": {},
   "outputs": [
    {
     "name": "stdout",
     "output_type": "stream",
     "text": [
      "[[-0.75530602 -1.76040272 -0.9591362  -0.30372962 -0.33915386]\n",
      " [ 0.78107439  1.85857521 -1.08372596 -1.32320633 -2.30719225]\n",
      " [-0.0082877   0.58867419 -1.60158639 -0.09789727  0.46701784]]\n"
     ]
    }
   ],
   "source": [
    "n=np.random.randn(3,5)\n",
    "print(n)"
   ]
  },
  {
   "cell_type": "code",
   "execution_count": 20,
   "id": "c272cb22",
   "metadata": {},
   "outputs": [],
   "source": [
    "n.tofile('n.npy')  #파일저장"
   ]
  },
  {
   "cell_type": "code",
   "execution_count": 24,
   "id": "62973126",
   "metadata": {},
   "outputs": [
    {
     "name": "stdout",
     "output_type": "stream",
     "text": [
      "[-0.75530602 -1.76040272 -0.9591362  -0.30372962 -0.33915386  0.78107439\n",
      "  1.85857521 -1.08372596 -1.32320633 -2.30719225 -0.0082877   0.58867419\n",
      " -1.60158639 -0.09789727  0.46701784]\n"
     ]
    }
   ],
   "source": [
    "m=np.fromfile('n.npy')\n",
    "print(m)"
   ]
  },
  {
   "cell_type": "code",
   "execution_count": 25,
   "id": "10819244",
   "metadata": {},
   "outputs": [
    {
     "name": "stdout",
     "output_type": "stream",
     "text": [
      "[-0.75530602 -1.76040272 -0.9591362  -0.30372962 -0.33915386  0.78107439\n",
      "  1.85857521 -1.08372596 -1.32320633 -2.30719225 -0.0082877   0.58867419\n",
      " -1.60158639 -0.09789727  0.46701784]\n"
     ]
    }
   ],
   "source": [
    "np.fromfile('C:\\STUDY\\StudyPython22\\jupyter/n.npy').reshape(3,5)  ##shape(3,5)\n",
    "print(m)"
   ]
  },
  {
   "cell_type": "code",
   "execution_count": 23,
   "id": "4dca585c",
   "metadata": {},
   "outputs": [
    {
     "name": "stdout",
     "output_type": "stream",
     "text": [
      "[[-0.75530602 -1.76040272 -0.9591362  -0.30372962 -0.33915386]\n",
      " [ 0.78107439  1.85857521 -1.08372596 -1.32320633 -2.30719225]\n",
      " [-0.0082877   0.58867419 -1.60158639 -0.09789727  0.46701784]]\n"
     ]
    }
   ],
   "source": [
    "np.save('n1.npy',n)\n",
    "m1=np.load('n1.npy')\n",
    "print(m1) #위아래 저장방식이달라서 방식에따라 불러오기"
   ]
  },
  {
   "cell_type": "code",
   "execution_count": null,
   "id": "b80a9c88",
   "metadata": {},
   "outputs": [],
   "source": []
  }
 ],
 "metadata": {
  "kernelspec": {
   "display_name": "Python 3 (ipykernel)",
   "language": "python",
   "name": "python3"
  },
  "language_info": {
   "codemirror_mode": {
    "name": "ipython",
    "version": 3
   },
   "file_extension": ".py",
   "mimetype": "text/x-python",
   "name": "python",
   "nbconvert_exporter": "python",
   "pygments_lexer": "ipython3",
   "version": "3.9.12"
  }
 },
 "nbformat": 4,
 "nbformat_minor": 5
}
