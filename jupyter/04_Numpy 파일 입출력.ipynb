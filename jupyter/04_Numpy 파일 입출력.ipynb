{
 "cells": [
  {
   "cell_type": "markdown",
   "id": "2078506f",
   "metadata": {},
   "source": [
    "# #Numpy 파이 입출력"
   ]
  },
  {
   "cell_type": "code",
   "execution_count": 2,
   "id": "f3fb0e29",
   "metadata": {},
   "outputs": [],
   "source": [
    "#파일 처리  \n",
    "import numpy as np"
   ]
  },
  {
   "cell_type": "code",
   "execution_count": 3,
   "id": "843b813e",
   "metadata": {},
   "outputs": [
    {
     "name": "stdout",
     "output_type": "stream",
     "text": [
      "[[-1.82427657  0.45289522 -1.57902754  0.12535716 -1.05139542]\n",
      " [-0.05325916  1.24069104 -0.96705165  1.15786539  1.01592131]\n",
      " [ 1.57069902  0.277656   -1.40398437  0.08415142  0.15779156]]\n"
     ]
    }
   ],
   "source": [
    "n=np.random.randn(3,5)\n",
    "print(n)"
   ]
  },
  {
   "cell_type": "code",
   "execution_count": 4,
   "id": "c272cb22",
   "metadata": {},
   "outputs": [],
   "source": [
    "n.tofile('n.npy')  #파일저장"
   ]
  },
  {
   "cell_type": "code",
   "execution_count": 5,
   "id": "62973126",
   "metadata": {},
   "outputs": [
    {
     "name": "stdout",
     "output_type": "stream",
     "text": [
      "[-1.82427657  0.45289522 -1.57902754  0.12535716 -1.05139542 -0.05325916\n",
      "  1.24069104 -0.96705165  1.15786539  1.01592131  1.57069902  0.277656\n",
      " -1.40398437  0.08415142  0.15779156]\n"
     ]
    }
   ],
   "source": [
    "m=np.fromfile('n.npy')\n",
    "print(m)"
   ]
  },
  {
   "cell_type": "code",
   "execution_count": 6,
   "id": "10819244",
   "metadata": {},
   "outputs": [
    {
     "name": "stdout",
     "output_type": "stream",
     "text": [
      "[-1.82427657  0.45289522 -1.57902754  0.12535716 -1.05139542 -0.05325916\n",
      "  1.24069104 -0.96705165  1.15786539  1.01592131  1.57069902  0.277656\n",
      " -1.40398437  0.08415142  0.15779156]\n"
     ]
    }
   ],
   "source": [
    "np.fromfile('C:\\STUDY\\StudyPython22\\jupyter/n.npy').reshape(3,5)  ##shape(3,5)\n",
    "print(m)"
   ]
  },
  {
   "cell_type": "code",
   "execution_count": 7,
   "id": "4dca585c",
   "metadata": {},
   "outputs": [
    {
     "name": "stdout",
     "output_type": "stream",
     "text": [
      "[[-0.75530602 -1.76040272 -0.9591362  -0.30372962 -0.33915386]\n",
      " [ 0.78107439  1.85857521 -1.08372596 -1.32320633 -2.30719225]\n",
      " [-0.0082877   0.58867419 -1.60158639 -0.09789727  0.46701784]]\n"
     ]
    }
   ],
   "source": [
    "#np.save('n1.npy',n)\n",
    "m1=np.load('n1.npy')\n",
    "print(m1) #위아래 저장방식이달라서 방식에따라 불러오기"
   ]
  },
  {
   "cell_type": "code",
   "execution_count": 9,
   "id": "b80a9c88",
   "metadata": {},
   "outputs": [],
   "source": [
    "##txt 파일 저장 (np.svetxt)\n",
    "#np.savetxt('n.txt',n)\n",
    "np.savetxt('n.txt',n)"
   ]
  },
  {
   "cell_type": "code",
   "execution_count": 10,
   "id": "61f23efa",
   "metadata": {},
   "outputs": [
    {
     "data": {
      "text/plain": [
       "array([[-1.82427657,  0.45289522, -1.57902754,  0.12535716, -1.05139542],\n",
       "       [-0.05325916,  1.24069104, -0.96705165,  1.15786539,  1.01592131],\n",
       "       [ 1.57069902,  0.277656  , -1.40398437,  0.08415142,  0.15779156]])"
      ]
     },
     "execution_count": 10,
     "metadata": {},
     "output_type": "execute_result"
    }
   ],
   "source": [
    "#txt 파일 불러보기\n",
    "np.loadtxt('n.txt')"
   ]
  },
  {
   "cell_type": "code",
   "execution_count": 11,
   "id": "2afe1f0f",
   "metadata": {},
   "outputs": [],
   "source": [
    "#csv 파일 저장,불러오기\n",
    "#np.savetxt('n.csv',n) 확장자만 csv인데 ,로 구분\n",
    "#np.loadtxt('n.csv')"
   ]
  },
  {
   "cell_type": "code",
   "execution_count": 13,
   "id": "5bbd202d",
   "metadata": {},
   "outputs": [],
   "source": [
    "np.savetxt('n.csv',n,delimiter=',')"
   ]
  },
  {
   "cell_type": "code",
   "execution_count": 15,
   "id": "d0933f3f",
   "metadata": {},
   "outputs": [
    {
     "data": {
      "text/plain": [
       "array([[-1.82427657,  0.45289522, -1.57902754,  0.12535716, -1.05139542],\n",
       "       [-0.05325916,  1.24069104, -0.96705165,  1.15786539,  1.01592131],\n",
       "       [ 1.57069902,  0.277656  , -1.40398437,  0.08415142,  0.15779156]])"
      ]
     },
     "execution_count": 15,
     "metadata": {},
     "output_type": "execute_result"
    }
   ],
   "source": [
    "np.loadtxt('n.csv',delimiter=',')"
   ]
  },
  {
   "cell_type": "code",
   "execution_count": 16,
   "id": "2264da4b",
   "metadata": {},
   "outputs": [],
   "source": [
    "import numpy as np"
   ]
  },
  {
   "cell_type": "code",
   "execution_count": 26,
   "id": "1444fe16",
   "metadata": {},
   "outputs": [],
   "source": [
    "matrix=np.arange(1,26).reshape(5,5)\n",
    "matrix\n",
    "np.savetxt('data.csv',matrix,delimiter=',')"
   ]
  },
  {
   "cell_type": "code",
   "execution_count": 28,
   "id": "af573cd5",
   "metadata": {},
   "outputs": [
    {
     "data": {
      "text/plain": [
       "array([[ 1,  2,  3,  4,  5],\n",
       "       [ 6,  7,  8,  9, 10],\n",
       "       [11, 12, 13, 14, 15],\n",
       "       [16, 17, 18, 19, 20],\n",
       "       [21, 22, 23, 24, 25]], dtype=int8)"
      ]
     },
     "execution_count": 28,
     "metadata": {},
     "output_type": "execute_result"
    }
   ],
   "source": [
    "np.loadtxt('data.csv',delimiter=',',dtype=np.int8)"
   ]
  },
  {
   "cell_type": "code",
   "execution_count": 38,
   "id": "b76f1c8f",
   "metadata": {},
   "outputs": [
    {
     "name": "stdout",
     "output_type": "stream",
     "text": [
      "[['1' '15' '14' '4']\n",
      " ['12' '6' '7' '9']\n",
      " ['8' '10' '11' '5']\n",
      " ['13' '3' '2' '16']]\n"
     ]
    }
   ],
   "source": [
    "arr1=np.loadtxt('./data/06_data1.txt',dtype=np.str_)\n",
    "print(arr1)"
   ]
  },
  {
   "cell_type": "code",
   "execution_count": 40,
   "id": "8841d60e",
   "metadata": {},
   "outputs": [
    {
     "data": {
      "text/plain": [
       "array([['1', '15', '14', '4'],\n",
       "       ['12', '6', '7', '9'],\n",
       "       ['8', '10', '11', '5'],\n",
       "       ['13', '3', '2', '16']], dtype='<U2')"
      ]
     },
     "execution_count": 40,
     "metadata": {},
     "output_type": "execute_result"
    }
   ],
   "source": [
    "np.loadtxt('./data/06_data1.txt',delimiter='\\t',dtype=np.str_)"
   ]
  },
  {
   "cell_type": "code",
   "execution_count": 45,
   "id": "9e67b6c2",
   "metadata": {},
   "outputs": [
    {
     "name": "stdout",
     "output_type": "stream",
     "text": [
      "[['1' '15' '14' '4']\n",
      " ['12' '6' '7' '9']\n",
      " ['8' '10' '11' '5']\n",
      " ['13' '3' '2' '16']]\n"
     ]
    }
   ],
   "source": [
    "arr2=np.loadtxt('./data/06_data2.txt',delimiter= ',',dtype=str)\n",
    "print(arr2)"
   ]
  },
  {
   "cell_type": "code",
   "execution_count": 48,
   "id": "ee5d2395",
   "metadata": {},
   "outputs": [
    {
     "name": "stdout",
     "output_type": "stream",
     "text": [
      "[[      1  565082     273   27177]\n",
      " [      2 2827233     444   45111]\n",
      " [      3 1144913     289   29043]\n",
      " [      4 1131034     230   22436]\n",
      " [      5  380425     391   38020]]\n"
     ]
    }
   ],
   "source": [
    "data=np.loadtxt('./data/ex1_지역별전기요금.csv',delimiter=',',dtype=np.int64)\n",
    "print(data[:5,:])"
   ]
  },
  {
   "cell_type": "code",
   "execution_count": 54,
   "id": "3f18707a",
   "metadata": {},
   "outputs": [
    {
     "name": "stdout",
     "output_type": "stream",
     "text": [
      "(17, 4)\n",
      "[ 1  2  3  4  5  6  7  8  9 10 11 12 13 14 15 16 17]\n"
     ]
    }
   ],
   "source": [
    "print(data.shape)\n",
    "#중복지역확인\n",
    "print(np.unique(data[:,0]))"
   ]
  },
  {
   "cell_type": "code",
   "execution_count": 97,
   "id": "74a0ed59",
   "metadata": {},
   "outputs": [
    {
     "name": "stdout",
     "output_type": "stream",
     "text": [
      "[ 9 14 10  4  6  0 16 13  5 12 11 15  7  3  2  8  1]\n"
     ]
    }
   ],
   "source": [
    "#데이터 크기순 정렬(argsort 사용)  ##0부터시작으로 그래서 9가 제일작음 오름차순으로 하고 1열기준으로 작은순부터\n",
    "print(data[:,1].argsort())"
   ]
  },
  {
   "cell_type": "code",
   "execution_count": 56,
   "id": "4aae5076",
   "metadata": {},
   "outputs": [
    {
     "name": "stdout",
     "output_type": "stream",
     "text": [
      "[[     10   49394     580   57091]\n",
      " [     15  258605     221   22180]\n",
      " [     11  323151     353   35470]\n",
      " [      5  380425     391   38020]\n",
      " [      7  425659     344   32331]\n",
      " [      1  565082     273   27177]\n",
      " [     17  584500     268   26899]\n",
      " [     14  634696     285   28556]\n",
      " [      6  668623     364   35245]\n",
      " [     13  726699     249   25120]\n",
      " [     12  734723     398   40049]\n",
      " [     16  742285     282   27901]\n",
      " [      8  947300     366   36274]\n",
      " [      4 1131034     230   22436]\n",
      " [      3 1144913     289   29043]\n",
      " [      9 2737725     361   36569]\n",
      " [      2 2827233     444   45111]]\n"
     ]
    }
   ],
   "source": [
    "#fancy index  2차원에서는 사용안하는것이 좋다\n",
    "print(data[data[:,1].argsort()])"
   ]
  },
  {
   "cell_type": "code",
   "execution_count": 68,
   "id": "f2affa8d",
   "metadata": {},
   "outputs": [
    {
     "name": "stdout",
     "output_type": "stream",
     "text": [
      "14882047\n",
      "335.18\n"
     ]
    }
   ],
   "source": [
    "#데이터 통걔\n",
    "#저눅 대상 가구수의 합\n",
    "print(np.sum(data[:,1]))  ##data[:,1].sum()\n",
    "#가구당 평균전력 사용량의 평균값\n",
    "print(round(data[:,2].mean(),2))  ##round 소수점 함수"
   ]
  },
  {
   "cell_type": "code",
   "execution_count": 76,
   "id": "ae7b575f",
   "metadata": {},
   "outputs": [
    {
     "data": {
      "text/plain": [
       "335.18"
      ]
     },
     "execution_count": 76,
     "metadata": {},
     "output_type": "execute_result"
    }
   ],
   "source": [
    "e_sum=np.sum(data[:,2])\n",
    "e_sum\n",
    "n_rows = data.shape[0]\n",
    "n_rows\n",
    "\n",
    "round(e_sum/n_rows,2)"
   ]
  },
  {
   "cell_type": "code",
   "execution_count": 79,
   "id": "8d072025",
   "metadata": {},
   "outputs": [
    {
     "name": "stdout",
     "output_type": "stream",
     "text": [
      "[[      2 2827233]\n",
      " [      5  380425]\n",
      " [      6  668623]\n",
      " [      7  425659]\n",
      " [      8  947300]\n",
      " [      9 2737725]\n",
      " [     10   49394]\n",
      " [     11  323151]\n",
      " [     12  734723]]\n"
     ]
    }
   ],
   "source": [
    "###가구당 평균 전력 사용량이 평균이상인 지역과 대상 가구수 추출  0지역,2대상가가수만 가져오니까 0:2\n",
    "avg_=data[:,2].mean()\n",
    "print(data[data[:,2]>avg_,0:2])"
   ]
  },
  {
   "cell_type": "code",
   "execution_count": 96,
   "id": "81fbf9f0",
   "metadata": {},
   "outputs": [
    {
     "name": "stdout",
     "output_type": "stream",
     "text": [
      "[['2014' '1' '218' '4.8' '-9' '-4']\n",
      " ['2014' '2' '872' '19' '-45' '-4.9']\n",
      " ['2014' '3' '401' '8.7' '-45' '-10.1']\n",
      " ['2014' '4' '464' '10.1' '-41' '-8.1']\n",
      " ['2014' '5' '99' '2.2' '-5' '-4.8']\n",
      " ['2014' '6' '182' '4' '19' '11.7']\n",
      " ['2014' '7' '99' '2.2' '8' '8.8']\n",
      " ['2014' '8' '163' '3.6' '-47' '-22.4']\n",
      " ['2014' '9' '386' '8.4' '14' '3.8']\n",
      " ['2014' '10' '20' '0.4' '0' '0']\n",
      " ['2014' '11' '103' '2.2' '-16' '-13.4']\n",
      " ['2014' '12' '144' '3.1' '-6' '-4']\n",
      " ['2014' '13' '400' '8.7' '-35' '-8']\n",
      " ['2014' '14' '317' '6.9' '-35' '-9.9']\n",
      " ['2014' '15' '86' '1.9' '-14' '-14']\n",
      " ['2014' '16' '387' '8.4' '-5' '-1.3']\n",
      " ['2014' '17' '242' '5.3' '-31' '-11.4']]\n"
     ]
    }
   ],
   "source": [
    "data2=np.loadtxt('./data/ex2_전년대비_시도별_교통사망사고.csv',delimiter=',',dtype=str)\n",
    "print(data2)"
   ]
  },
  {
   "cell_type": "code",
   "execution_count": null,
   "id": "d6d56b6c",
   "metadata": {},
   "outputs": [],
   "source": []
  }
 ],
 "metadata": {
  "kernelspec": {
   "display_name": "Python 3 (ipykernel)",
   "language": "python",
   "name": "python3"
  },
  "language_info": {
   "codemirror_mode": {
    "name": "ipython",
    "version": 3
   },
   "file_extension": ".py",
   "mimetype": "text/x-python",
   "name": "python",
   "nbconvert_exporter": "python",
   "pygments_lexer": "ipython3",
   "version": "3.9.12"
  }
 },
 "nbformat": 4,
 "nbformat_minor": 5
}
