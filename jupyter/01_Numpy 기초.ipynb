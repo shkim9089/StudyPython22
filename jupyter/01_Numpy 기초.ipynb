{
 "cells": [
  {
   "cell_type": "code",
   "execution_count": 2,
   "id": "c85c7bb0",
   "metadata": {},
   "outputs": [],
   "source": [
    "import numpy as np"
   ]
  },
  {
   "cell_type": "code",
   "execution_count": 3,
   "id": "0b29526a",
   "metadata": {},
   "outputs": [],
   "source": [
    "a=np.array(1)"
   ]
  },
  {
   "cell_type": "code",
   "execution_count": 4,
   "id": "82185916",
   "metadata": {},
   "outputs": [
    {
     "data": {
      "text/plain": [
       "array(1)"
      ]
     },
     "execution_count": 4,
     "metadata": {},
     "output_type": "execute_result"
    }
   ],
   "source": [
    "a"
   ]
  },
  {
   "cell_type": "code",
   "execution_count": 9,
   "id": "91a115c8",
   "metadata": {},
   "outputs": [
    {
     "name": "stdout",
     "output_type": "stream",
     "text": [
      "[1 2 3]\n"
     ]
    }
   ],
   "source": [
    "ndarr_1 = np.array([1,2,3])\n",
    "print(ndarr_1)"
   ]
  },
  {
   "cell_type": "code",
   "execution_count": 11,
   "id": "f38a9818",
   "metadata": {},
   "outputs": [
    {
     "name": "stdout",
     "output_type": "stream",
     "text": [
      "[1. 2. 3.]\n"
     ]
    }
   ],
   "source": [
    "ndarr_2=np.array([1,2.0,3])\n",
    "print(ndarr_2)"
   ]
  },
  {
   "cell_type": "code",
   "execution_count": 13,
   "id": "d362dcbe",
   "metadata": {},
   "outputs": [
    {
     "name": "stdout",
     "output_type": "stream",
     "text": [
      "['1' '2.0' 'A']\n"
     ]
    }
   ],
   "source": [
    "ndarr_3=np.array([1,2.0,'A'])\n",
    "print(ndarr_3)"
   ]
  },
  {
   "cell_type": "code",
   "execution_count": 28,
   "id": "852c5e50",
   "metadata": {},
   "outputs": [
    {
     "name": "stdout",
     "output_type": "stream",
     "text": [
      "int32\n",
      "float64\n",
      "<U32\n",
      "int32\n",
      "object\n"
     ]
    }
   ],
   "source": [
    "#배열의 정보\n",
    "#ndarray.dtype\n",
    "print(ndarr_1.dtype)\n",
    "print(ndarr_2.dtype)\n",
    "print(ndarr_3.dtype)\n",
    "      \n",
    "print(np.array(1+2).dtype)\n",
    "print(np.array(print).dtype)"
   ]
  },
  {
   "cell_type": "markdown",
   "id": "cd5a8e59",
   "metadata": {},
   "source": [
    "#자료형 저장"
   ]
  },
  {
   "cell_type": "code",
   "execution_count": null,
   "id": "f76d215d",
   "metadata": {},
   "outputs": [],
   "source": [
    "dtype1=np.array([1,2,3],dtype=np.int8)\n",
    "print(dtype1.dtype)"
   ]
  },
  {
   "cell_type": "code",
   "execution_count": 32,
   "id": "06883043",
   "metadata": {},
   "outputs": [
    {
     "name": "stdout",
     "output_type": "stream",
     "text": [
      "float64\n"
     ]
    }
   ],
   "source": [
    "dtype2=np.array([1,2,3],dtype=float)\n",
    "print(dtype2.dtype)"
   ]
  },
  {
   "cell_type": "code",
   "execution_count": 34,
   "id": "29461b24",
   "metadata": {},
   "outputs": [
    {
     "name": "stdout",
     "output_type": "stream",
     "text": [
      "[1 2 3]\n",
      "int32\n"
     ]
    }
   ],
   "source": [
    "dtype4=np.array([1,2.1,'3'],dtype=int)\n",
    "print(dtype4)\n",
    "print(dtype4.dtype)"
   ]
  },
  {
   "cell_type": "code",
   "execution_count": 35,
   "id": "beee2f28",
   "metadata": {},
   "outputs": [
    {
     "ename": "ValueError",
     "evalue": "could not convert string to float: 'data'",
     "output_type": "error",
     "traceback": [
      "\u001b[1;31m---------------------------------------------------------------------------\u001b[0m",
      "\u001b[1;31mValueError\u001b[0m                                Traceback (most recent call last)",
      "Input \u001b[1;32mIn [35]\u001b[0m, in \u001b[0;36m<cell line: 1>\u001b[1;34m()\u001b[0m\n\u001b[1;32m----> 1\u001b[0m dtype5\u001b[38;5;241m=\u001b[39m\u001b[43mnp\u001b[49m\u001b[38;5;241;43m.\u001b[39;49m\u001b[43marray\u001b[49m\u001b[43m(\u001b[49m\u001b[43m[\u001b[49m\u001b[38;5;241;43m1\u001b[39;49m\u001b[43m,\u001b[49m\u001b[38;5;124;43m'\u001b[39;49m\u001b[38;5;124;43mdata\u001b[39;49m\u001b[38;5;124;43m'\u001b[39;49m\u001b[43m,\u001b[49m\u001b[38;5;124;43m'\u001b[39;49m\u001b[38;5;124;43mprint\u001b[39;49m\u001b[38;5;124;43m'\u001b[39;49m\u001b[43m]\u001b[49m\u001b[43m,\u001b[49m\u001b[43mdtype\u001b[49m\u001b[38;5;241;43m=\u001b[39;49m\u001b[38;5;28;43mfloat\u001b[39;49m\u001b[43m)\u001b[49m\n\u001b[0;32m      2\u001b[0m \u001b[38;5;28mprint\u001b[39m(dtype5\u001b[38;5;241m.\u001b[39mdtype)\n",
      "\u001b[1;31mValueError\u001b[0m: could not convert string to float: 'data'"
     ]
    }
   ],
   "source": [
    "dtype5=np.array([1,'data','print'],dtype=float)\n",
    "print(dtype5.dtype)"
   ]
  },
  {
   "cell_type": "markdown",
   "id": "856992ff",
   "metadata": {},
   "source": [
    "##배열의 정보 확인"
   ]
  },
  {
   "cell_type": "code",
   "execution_count": 37,
   "id": "96847a8a",
   "metadata": {},
   "outputs": [
    {
     "name": "stdout",
     "output_type": "stream",
     "text": [
      "(3,)\n"
     ]
    }
   ],
   "source": [
    "print(ndarr_1.shape) #배열크기 확인"
   ]
  },
  {
   "cell_type": "code",
   "execution_count": 38,
   "id": "7bb0c6bf",
   "metadata": {},
   "outputs": [
    {
     "name": "stdout",
     "output_type": "stream",
     "text": [
      "1\n"
     ]
    }
   ],
   "source": [
    "print(ndarr_1.ndim)  ##배열차원 확인"
   ]
  },
  {
   "cell_type": "code",
   "execution_count": 39,
   "id": "bf5300eb",
   "metadata": {},
   "outputs": [
    {
     "name": "stdout",
     "output_type": "stream",
     "text": [
      "[1 2 3]\n",
      "(3,)\n",
      "1\n",
      "int32\n"
     ]
    }
   ],
   "source": [
    "vector=np.array([1,2,3])\n",
    "print(vector)\n",
    "print(vector.shape)\n",
    "print(vector.ndim)\n",
    "print(vector.dtype)"
   ]
  },
  {
   "cell_type": "code",
   "execution_count": 42,
   "id": "ee5d28af",
   "metadata": {},
   "outputs": [
    {
     "name": "stdout",
     "output_type": "stream",
     "text": [
      "[[1 2 3]\n",
      " [4 5 6]]\n",
      "(2, 3)\n",
      "2\n",
      "int32\n"
     ]
    }
   ],
   "source": [
    "matrix=np.array([[1,2,3],[4,5,6]])\n",
    "print(matrix)\n",
    "print(matrix.shape)\n",
    "print(matrix.ndim)\n",
    "print(matrix.dtype)"
   ]
  },
  {
   "cell_type": "code",
   "execution_count": 44,
   "id": "c86f4b6b",
   "metadata": {},
   "outputs": [
    {
     "name": "stdout",
     "output_type": "stream",
     "text": [
      "[[[ 1  2  3]\n",
      "  [ 4  5  6]]\n",
      "\n",
      " [[ 7  8  9]\n",
      "  [10 11 12]]]\n",
      "(2, 2, 3)\n",
      "3\n",
      "int32\n"
     ]
    }
   ],
   "source": [
    "tensor=np.array([[[1,2,3],[4,5,6]],[[7,8,9],[10,11,12]]])\n",
    "print(tensor)\n",
    "print(tensor.shape)\n",
    "print(tensor.ndim)\n",
    "print(tensor.dtype)"
   ]
  },
  {
   "cell_type": "code",
   "execution_count": 47,
   "id": "34d5e8a5",
   "metadata": {},
   "outputs": [
    {
     "name": "stdout",
     "output_type": "stream",
     "text": [
      "3\n",
      "6\n",
      "12\n"
     ]
    }
   ],
   "source": [
    "print(vector.size)\n",
    "print(matrix.size)\n",
    "print(tensor.size)"
   ]
  },
  {
   "cell_type": "code",
   "execution_count": 57,
   "id": "f173e09b",
   "metadata": {},
   "outputs": [
    {
     "name": "stdout",
     "output_type": "stream",
     "text": [
      "[[1 2 3]\n",
      " [2 4 6]\n",
      " [3 6 9]]\n",
      "(3, 3)\n",
      "2\n",
      "int32\n",
      "9\n"
     ]
    }
   ],
   "source": [
    "matrix=np.array([[1,2,3],[2,4,6],[3,6,9]])\n",
    "print(matrix)\n",
    "print(matrix.shape)\n",
    "print(matrix.ndim)\n",
    "print(matrix.dtype)\n",
    "print(matrix.size)"
   ]
  },
  {
   "cell_type": "markdown",
   "id": "58f1aa09",
   "metadata": {},
   "source": [
    "## 자료형 변환(리스트)"
   ]
  },
  {
   "cell_type": "markdown",
   "id": "1074df70",
   "metadata": {},
   "source": [
    "리스->ndarray 변환"
   ]
  },
  {
   "cell_type": "code",
   "execution_count": 59,
   "id": "e09c541e",
   "metadata": {},
   "outputs": [
    {
     "name": "stdout",
     "output_type": "stream",
     "text": [
      "[1 2 3]\n"
     ]
    }
   ],
   "source": [
    "list1=[1,2,3]\n",
    "arr1=np.array(list1)\n",
    "print(arr1)"
   ]
  },
  {
   "cell_type": "code",
   "execution_count": 62,
   "id": "0d148d21",
   "metadata": {},
   "outputs": [
    {
     "name": "stdout",
     "output_type": "stream",
     "text": [
      "[1, 2, 3]\n"
     ]
    }
   ],
   "source": [
    "arr2=np.array([1,2,3])\n",
    "list2=list(arr2)\n",
    "print(list2)"
   ]
  },
  {
   "cell_type": "code",
   "execution_count": 64,
   "id": "3e0b6c5b",
   "metadata": {},
   "outputs": [
    {
     "name": "stdout",
     "output_type": "stream",
     "text": [
      "[[1 2 3]\n",
      " [4 5 6]]\n"
     ]
    }
   ],
   "source": [
    "list3=[[1,2,3],[4,5,6]]\n",
    "arr3=np.array(list3)\n",
    "print(arr3)"
   ]
  },
  {
   "cell_type": "code",
   "execution_count": 65,
   "id": "4a30cce1",
   "metadata": {},
   "outputs": [
    {
     "name": "stdout",
     "output_type": "stream",
     "text": [
      "[list([1, 2, 3, 4]) list([5, 6, 7])]\n"
     ]
    },
    {
     "name": "stderr",
     "output_type": "stream",
     "text": [
      "C:\\Users\\admin\\AppData\\Local\\Temp\\ipykernel_9972\\2642677926.py:2: VisibleDeprecationWarning: Creating an ndarray from ragged nested sequences (which is a list-or-tuple of lists-or-tuples-or ndarrays with different lengths or shapes) is deprecated. If you meant to do this, you must specify 'dtype=object' when creating the ndarray.\n",
      "  arr4=np.array(list4)\n"
     ]
    }
   ],
   "source": [
    "list4=[[1,2,3,4],[5,6,7]]\n",
    "arr4=np.array(list4)\n",
    "print(arr4)"
   ]
  },
  {
   "cell_type": "markdown",
   "id": "86093f38",
   "metadata": {},
   "source": [
    "## 자료형 변환(리스트) -튜플"
   ]
  },
  {
   "cell_type": "code",
   "execution_count": 68,
   "id": "71b7902e",
   "metadata": {},
   "outputs": [
    {
     "name": "stdout",
     "output_type": "stream",
     "text": [
      "{1, 2, 3}\n"
     ]
    }
   ],
   "source": [
    "tuple1={1,2,3}\n",
    "arr=np.array(tuple1)\n",
    "print(tuple1)"
   ]
  },
  {
   "cell_type": "code",
   "execution_count": 69,
   "id": "a1bf3137",
   "metadata": {},
   "outputs": [
    {
     "name": "stdout",
     "output_type": "stream",
     "text": [
      "(1, 2, 3)\n"
     ]
    }
   ],
   "source": [
    "arr=np.array({1,2,3})\n",
    "tuple2=tuple(arr2)\n",
    "print(tuple2)"
   ]
  },
  {
   "cell_type": "markdown",
   "id": "835c5fce",
   "metadata": {},
   "source": [
    "## 자료형 변환(리스트) -세트,딕셔너리"
   ]
  },
  {
   "cell_type": "code",
   "execution_count": 74,
   "id": "f83f2560",
   "metadata": {},
   "outputs": [
    {
     "name": "stdout",
     "output_type": "stream",
     "text": [
      "{1, 2, 3}\n",
      "1\n",
      "()\n"
     ]
    }
   ],
   "source": [
    "set1={1,2,3}\n",
    "arr=np.array(set1)\n",
    "print(arr)\n",
    "print(arr.size) #세트는 변환되지않음\n",
    "print(arr.shape)"
   ]
  },
  {
   "cell_type": "code",
   "execution_count": 77,
   "id": "1a729d25",
   "metadata": {},
   "outputs": [
    {
     "name": "stdout",
     "output_type": "stream",
     "text": [
      "{'a': 1, 'b': 2, 'c': 3}\n"
     ]
    }
   ],
   "source": [
    "dict1={'a':1,'b':2,'c':3}\n",
    "arr=np.array(dict1)\n",
    "print(arr)\n",
    "print(arr.size)"
   ]
  },
  {
   "cell_type": "markdown",
   "id": "7bbade53",
   "metadata": {},
   "source": [
    "##배열 인덱싱\n",
    "리스트 인덱싱과 유사"
   ]
  },
  {
   "cell_type": "code",
   "execution_count": 82,
   "id": "75e5a887",
   "metadata": {},
   "outputs": [
    {
     "name": "stdout",
     "output_type": "stream",
     "text": [
      "1\n",
      "4\n",
      "7\n"
     ]
    }
   ],
   "source": [
    "list0=[[[1,2],[3,4]],[[5,6],[7,8]]]\n",
    "#1가져오기\n",
    "print(list0[0][0][0])\n",
    "#4가져오기\n",
    "print(list0[0][1][1])\n",
    "#7가져오기\n",
    "print(list0[1][1][0])"
   ]
  },
  {
   "cell_type": "code",
   "execution_count": 84,
   "id": "8ab72f5d",
   "metadata": {},
   "outputs": [
    {
     "name": "stdout",
     "output_type": "stream",
     "text": [
      "1\n",
      "4\n",
      "7\n"
     ]
    }
   ],
   "source": [
    "arr0=np.array([[[1,2],[3,4]],[[5,6],[7,8]]])\n",
    "#1가져오기\n",
    "print(arr0[0][0][0])\n",
    "#4가져오기\n",
    "print(arr0[0][1][1])\n",
    "#7가져오기\n",
    "print(arr0[1][1][0])"
   ]
  },
  {
   "cell_type": "markdown",
   "id": "59861bef",
   "metadata": {},
   "source": [
    "ndarry의 인덱싱\n",
    "-array[row,col]"
   ]
  },
  {
   "cell_type": "code",
   "execution_count": 90,
   "id": "a209c1c6",
   "metadata": {
    "scrolled": true
   },
   "outputs": [
    {
     "name": "stdout",
     "output_type": "stream",
     "text": [
      "1\n",
      "4\n",
      "7\n"
     ]
    }
   ],
   "source": [
    "arr_=np.array([[[1,2],[3,4]],[[5,6],[7,8]]])\n",
    "print(arr_[0,0,0])\n",
    "print(arr_[0,1,1])\n",
    "print(arr_[1,1,0])"
   ]
  },
  {
   "cell_type": "code",
   "execution_count": 97,
   "id": "f9393b66",
   "metadata": {},
   "outputs": [
    {
     "name": "stdout",
     "output_type": "stream",
     "text": [
      "[[1 2]]\n",
      "[[1 2]\n",
      " [5 6]]\n",
      "[1 4 5]\n",
      "[2 2]\n"
     ]
    }
   ],
   "source": [
    "arr_1=np.array([[1,2],\n",
    "                [3,4],\n",
    "                [5,6]])\n",
    "# 0행 가져와서 2차원 배열 만들기\n",
    "print(arr_1[[0]])\n",
    "# 0,2행 가져와서 2차원 배열 만들기\n",
    "print(arr_1[[0,2]])\n",
    "#다음답?\n",
    "print(arr_1[[0,1,2],[0,1,0]])  #0,0 요소 1,1 요소 2,0\n",
    "print(arr_1[[0,0],[1,1]])"
   ]
  },
  {
   "cell_type": "code",
   "execution_count": 108,
   "id": "eb365583",
   "metadata": {},
   "outputs": [
    {
     "name": "stdout",
     "output_type": "stream",
     "text": [
      "[ 1  6  7 11]\n"
     ]
    }
   ],
   "source": [
    "arr_2=np.array([[1,2,3],\n",
    "              [4,5,6],\n",
    "              [7,8,9],\n",
    "              [10,11,12]])\n",
    "\n",
    "#두개의 배열 만들기\n",
    "b=np.array([0,1,2,3])\n",
    "c=np.array([0,2,0,1])\n",
    "#다음 코드실행결과\n",
    "print(arr_2[b,c])"
   ]
  },
  {
   "cell_type": "markdown",
   "id": "bf80ceb3",
   "metadata": {},
   "source": [
    "##Boolean 인덱싱"
   ]
  },
  {
   "cell_type": "code",
   "execution_count": 125,
   "id": "eaaebc8c",
   "metadata": {},
   "outputs": [
    {
     "name": "stdout",
     "output_type": "stream",
     "text": [
      "[1 3 4]\n"
     ]
    }
   ],
   "source": [
    "arr=np.array([1,2,3,4,5])\n",
    "             \n",
    "#True,False\n",
    "print(arr[[True,False,True,True,False]])"
   ]
  },
  {
   "cell_type": "code",
   "execution_count": 122,
   "id": "9ae57390",
   "metadata": {},
   "outputs": [
    {
     "name": "stdout",
     "output_type": "stream",
     "text": [
      "[91 93]\n",
      "[96 91]\n"
     ]
    }
   ],
   "source": [
    "score=np.array([[78,91,8,89,93,65],\n",
    "                [82,87,96,79,91,73]])\n",
    "\n",
    "print(score[0][score[0]>=90])\n",
    "print(score[1][score[1]>=90])"
   ]
  },
  {
   "cell_type": "markdown",
   "id": "feab163a",
   "metadata": {},
   "source": [
    "## 배열 슬라이싱"
   ]
  },
  {
   "cell_type": "code",
   "execution_count": 5,
   "id": "79c1506e",
   "metadata": {},
   "outputs": [],
   "source": [
    "matrix=np.array([[1,2,3,4,5],\n",
    "               [6,7,8,9,10],\n",
    "               [11,12,13,14,15],\n",
    "               [16,17,18,19,20]])"
   ]
  },
  {
   "cell_type": "code",
   "execution_count": 10,
   "id": "bd52013c",
   "metadata": {},
   "outputs": [
    {
     "name": "stdout",
     "output_type": "stream",
     "text": [
      "[ 1  6 11 16]\n",
      "[[ 1]\n",
      " [ 6]\n",
      " [11]\n",
      " [16]]\n"
     ]
    }
   ],
   "source": [
    "print(matrix[:,0])\n",
    "print(matrix[:,:1])"
   ]
  },
  {
   "cell_type": "code",
   "execution_count": 13,
   "id": "c787afe1",
   "metadata": {},
   "outputs": [
    {
     "name": "stdout",
     "output_type": "stream",
     "text": [
      "[ 6  7  8  9 10]\n",
      "[ 6  7  8  9 10]\n",
      "[[ 6  7  8  9 10]]\n"
     ]
    }
   ],
   "source": [
    "print(matrix[1,:])  #1행 전체 슬라이싱  row,col :이면 전체를표시\n",
    "print(matrix[1])   #rank>row>col순으로 콜론생략가능\n",
    "print(matrix[1:2,:])"
   ]
  },
  {
   "cell_type": "code",
   "execution_count": 16,
   "id": "d2969985",
   "metadata": {},
   "outputs": [
    {
     "name": "stdout",
     "output_type": "stream",
     "text": [
      "[[ 4  5]\n",
      " [ 9 10]\n",
      " [14 15]\n",
      " [19 20]]\n",
      "[2 3 4]\n"
     ]
    }
   ],
   "source": [
    "print(matrix[:,3:])\n",
    "print(matrix[0,1:-1])  # 4=-1g하고 같은뜻임 뒤에서 부터니까"
   ]
  },
  {
   "cell_type": "code",
   "execution_count": 20,
   "id": "28d2fc65",
   "metadata": {},
   "outputs": [
    {
     "name": "stdout",
     "output_type": "stream",
     "text": [
      "[[13 14 15]\n",
      " [18 19 20]]\n",
      "[[ 7  8]\n",
      " [12 13]]\n"
     ]
    }
   ],
   "source": [
    "print(matrix[-2:,-3:])\n",
    "print(matrix[1:-1,1:3])"
   ]
  },
  {
   "cell_type": "code",
   "execution_count": 22,
   "id": "8d9f7ee2",
   "metadata": {},
   "outputs": [
    {
     "name": "stdout",
     "output_type": "stream",
     "text": [
      "[[ 8  9 10]\n",
      " [18 19 20]]\n",
      "[[ 7  9]\n",
      " [12 14]]\n"
     ]
    }
   ],
   "source": [
    "print(matrix[[1,3],2:])\n",
    "print(matrix[1:-1,[1,3]])"
   ]
  },
  {
   "cell_type": "code",
   "execution_count": 25,
   "id": "7914d64e",
   "metadata": {},
   "outputs": [],
   "source": [
    "tensor = np.array([[[1,2,3],[4,5,6]],\n",
    "                   [[7,8,9],[10,11,12]]])"
   ]
  },
  {
   "cell_type": "code",
   "execution_count": 40,
   "id": "6ba55589",
   "metadata": {},
   "outputs": [
    {
     "name": "stdout",
     "output_type": "stream",
     "text": [
      "[10  2  6]\n"
     ]
    }
   ],
   "source": [
    "print(tensor[[1,0,0],[1,0,1],[0,1,2]])   ## 1,0,0 ,1,0,1, 0,1,2 하나씩 맞춤"
   ]
  },
  {
   "cell_type": "code",
   "execution_count": 41,
   "id": "3408bdda",
   "metadata": {},
   "outputs": [
    {
     "data": {
      "text/plain": [
       "array([[[ 1,  2,  3],\n",
       "        [ 4,  5,  6]],\n",
       "\n",
       "       [[ 7,  8,  9],\n",
       "        [10, 11, 12]]])"
      ]
     },
     "execution_count": 41,
     "metadata": {},
     "output_type": "execute_result"
    }
   ],
   "source": [
    "tensor"
   ]
  },
  {
   "cell_type": "code",
   "execution_count": 44,
   "id": "95aa9599",
   "metadata": {},
   "outputs": [
    {
     "name": "stdout",
     "output_type": "stream",
     "text": [
      "[[1 2]\n",
      " [4 5]]\n",
      "[ 9 12]\n"
     ]
    }
   ],
   "source": [
    "print(tensor[0,:,0:2])\n",
    "print(tensor[1,:,2])"
   ]
  },
  {
   "cell_type": "code",
   "execution_count": null,
   "id": "8d7e740b",
   "metadata": {},
   "outputs": [],
   "source": []
  }
 ],
 "metadata": {
  "kernelspec": {
   "display_name": "Python 3 (ipykernel)",
   "language": "python",
   "name": "python3"
  },
  "language_info": {
   "codemirror_mode": {
    "name": "ipython",
    "version": 3
   },
   "file_extension": ".py",
   "mimetype": "text/x-python",
   "name": "python",
   "nbconvert_exporter": "python",
   "pygments_lexer": "ipython3",
   "version": "3.9.12"
  }
 },
 "nbformat": 4,
 "nbformat_minor": 5
}
