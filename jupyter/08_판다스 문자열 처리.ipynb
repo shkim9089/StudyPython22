{
 "cells": [
  {
   "cell_type": "code",
   "execution_count": 1,
   "id": "6120180a",
   "metadata": {},
   "outputs": [],
   "source": [
    "##문자열 \n",
    "#''''\"\"\"\"\"\"\"\"\"\""
   ]
  },
  {
   "cell_type": "code",
   "execution_count": 3,
   "id": "ff2c2b6e",
   "metadata": {
    "scrolled": true
   },
   "outputs": [
    {
     "ename": "NameError",
     "evalue": "name 'a' is not defined",
     "output_type": "error",
     "traceback": [
      "\u001b[1;31m---------------------------------------------------------------------------\u001b[0m",
      "\u001b[1;31mNameError\u001b[0m                                 Traceback (most recent call last)",
      "Input \u001b[1;32mIn [3]\u001b[0m, in \u001b[0;36m<cell line: 2>\u001b[1;34m()\u001b[0m\n\u001b[0;32m      1\u001b[0m \u001b[38;5;66;03m# 첫문자를 대문자로 변환\u001b[39;00m\n\u001b[1;32m----> 2\u001b[0m \u001b[43ma\u001b[49m\u001b[38;5;241m.\u001b[39mcapitalize(\u001b[38;5;124m'\u001b[39m\u001b[38;5;124mbcd\u001b[39m\u001b[38;5;124m'\u001b[39m)\n\u001b[0;32m      3\u001b[0m \u001b[38;5;66;03m# 문자의 개수를 카운트,무낮열아네서\u001b[39;00m\n\u001b[0;32m      4\u001b[0m a\u001b[38;5;241m.\u001b[39mcount(\u001b[38;5;124m'\u001b[39m\u001b[38;5;124ma\u001b[39m\u001b[38;5;124m'\u001b[39m)\n",
      "\u001b[1;31mNameError\u001b[0m: name 'a' is not defined"
     ]
    }
   ],
   "source": [
    "# 첫문자를 대문자로 변환\n",
    "a.capitalize()\n",
    "# 문자의 개수를 카운트,무낮열아네서\n",
    "a.count('a')\n",
    "# 문자열에서 문자를 찾아서 인데스를 반환\n",
    "a.find('za')\n",
    "a.index()\n",
    "#문자를 대문자로 변환\n",
    "a.upper()\n",
    "a.lower()\n",
    "# replace 특정문자를 다른문자로 변환\n",
    "a.replce()\n",
    "\n",
    "#문자열 앞 뒤 공간을 없애는 함수\n",
    "a.strip()\n",
    "\n",
    "##문자열을 특정구간으로 나누는것\n",
    "a.split()\n",
    "\n",
    "##리스트에있는 문자열을 하나로 합쳐지는 함수  ('기호',조인)\n",
    "('/',join(urls))\n"
   ]
  },
  {
   "cell_type": "code",
   "execution_count": 4,
   "id": "fb877bc2",
   "metadata": {},
   "outputs": [],
   "source": [
    "#문자열 포매팅"
   ]
  },
  {
   "cell_type": "code",
   "execution_count": 6,
   "id": "55d033cd",
   "metadata": {},
   "outputs": [],
   "source": [
    "var='flesh wound'\n",
    "s=\"it's just a {}!\""
   ]
  },
  {
   "cell_type": "code",
   "execution_count": 7,
   "id": "ccbc59dd",
   "metadata": {},
   "outputs": [
    {
     "name": "stdout",
     "output_type": "stream",
     "text": [
      "it's just a flesh wound!\n"
     ]
    }
   ],
   "source": [
    "print(s.format(var))"
   ]
  },
  {
   "cell_type": "code",
   "execution_count": 9,
   "id": "4a92fbf7",
   "metadata": {},
   "outputs": [
    {
     "data": {
      "text/plain": [
       "(\"it's just a {}\", 'flesh wound')"
      ]
     },
     "execution_count": 9,
     "metadata": {},
     "output_type": "execute_result"
    }
   ],
   "source": [
    "\"it's just a {}\",format('flesh wound')"
   ]
  },
  {
   "cell_type": "code",
   "execution_count": 21,
   "id": "6f9a8405",
   "metadata": {},
   "outputs": [
    {
     "name": "stdout",
     "output_type": "stream",
     "text": [
      "10+5=15\n"
     ]
    }
   ],
   "source": [
    "a=10\n",
    "b=5\n",
    "print('{}+{}={}'.format(a,b,a+b))"
   ]
  },
  {
   "cell_type": "code",
   "execution_count": 22,
   "id": "84684747",
   "metadata": {},
   "outputs": [
    {
     "data": {
      "text/plain": [
       "'10+5=15'"
      ]
     },
     "execution_count": 22,
     "metadata": {},
     "output_type": "execute_result"
    }
   ],
   "source": [
    "f'{a}+{b}={a+b}'"
   ]
  },
  {
   "cell_type": "code",
   "execution_count": 24,
   "id": "f4ae9244",
   "metadata": {},
   "outputs": [
    {
     "name": "stdout",
     "output_type": "stream",
     "text": [
      "(a)+(b)=(a+B)\n"
     ]
    }
   ],
   "source": [
    "print(f'(a)+(b)=(a+B)')"
   ]
  },
  {
   "cell_type": "code",
   "execution_count": null,
   "id": "9138a6df",
   "metadata": {},
   "outputs": [],
   "source": []
  }
 ],
 "metadata": {
  "kernelspec": {
   "display_name": "Python 3 (ipykernel)",
   "language": "python",
   "name": "python3"
  },
  "language_info": {
   "codemirror_mode": {
    "name": "ipython",
    "version": 3
   },
   "file_extension": ".py",
   "mimetype": "text/x-python",
   "name": "python",
   "nbconvert_exporter": "python",
   "pygments_lexer": "ipython3",
   "version": "3.9.12"
  }
 },
 "nbformat": 4,
 "nbformat_minor": 5
}
